{
 "cells": [
  {
   "cell_type": "code",
   "execution_count": 1,
   "id": "settled-ordering",
   "metadata": {
    "ExecuteTime": {
     "end_time": "2021-04-28T19:51:45.671570Z",
     "start_time": "2021-04-28T19:51:45.150798Z"
    }
   },
   "outputs": [],
   "source": [
    "import gym\n",
    "import gym_abalone\n",
    "\n",
    "import random\n",
    "from copy import deepcopy\n",
    "from tqdm.notebook import tqdm\n",
    "import numpy as np\n",
    "\n",
    "import torch\n",
    "import torch.nn as nn"
   ]
  },
  {
   "cell_type": "markdown",
   "id": "federal-brooklyn",
   "metadata": {},
   "source": [
    "# Abalone MCTS / AlphaZero tests"
   ]
  },
  {
   "cell_type": "markdown",
   "id": "buried-kidney",
   "metadata": {},
   "source": [
    "See the implementation of the environment in the [original repository](https://github.com/towzeur/gym-abalone) by **towzeur**. Game rules, action representation, state representation, reward function design is not changed here, read about it in towzeur's readme page."
   ]
  },
  {
   "cell_type": "markdown",
   "id": "cordless-verse",
   "metadata": {},
   "source": [
    "# Environment"
   ]
  },
  {
   "cell_type": "markdown",
   "id": "sitting-spokesman",
   "metadata": {},
   "source": [
    "Let's start by learning to work with this environment. We'll do the following changes:\n",
    "* originally env takes two numbers as action, representing starting point and target point. We'll switch to standard int as an action.\n",
    "* observations, actions and reward functions are now mirrored, so that on each step every player thinks he is playing white. Yet player with index 0 *maximizes* reward, player 1 *minimizes* reward."
   ]
  },
  {
   "cell_type": "code",
   "execution_count": 2,
   "id": "concerned-anniversary",
   "metadata": {
    "ExecuteTime": {
     "end_time": "2021-04-28T19:58:21.168162Z",
     "start_time": "2021-04-28T19:58:21.157159Z"
    }
   },
   "outputs": [],
   "source": [
    "class CustomWrapper(gym.Wrapper):\n",
    "    def step(self, a):\n",
    "        # this is just how it is encoded in this implementation of env\n",
    "        go_from, go_where = self.mirror_action(a // 61, a % 61)\n",
    "        player = self.env.game.current_player\n",
    "        \n",
    "        s, r, done, info = self.env.step((go_from, go_where))\n",
    "        self.latest_observation = self.mirror_observation(s)\n",
    "        return self.latest_observation, self.mirror_reward(r, player), done, info\n",
    "    \n",
    "    def reset(self):\n",
    "        s = self.env.reset()\n",
    "        self.latest_observation = self.mirror_observation(s)\n",
    "        return self.latest_observation\n",
    "        \n",
    "    def mirror_observation(self, s):\n",
    "        # if current player is playing black, switch white to black and shift the board\n",
    "        if self.env.game.current_player == 0:\n",
    "            return s[None]\n",
    "        \n",
    "        s[s == 0] = 5\n",
    "        s[s == 1] = 0\n",
    "        s[s == 5] = 1\n",
    "        return s[None, ::-1, ::-1]\n",
    "    \n",
    "    def mirror_action(self, go_from, go_where):\n",
    "        if self.env.game.current_player == 0:\n",
    "            return go_from, go_where\n",
    "        \n",
    "        # turns out it is quite convenient\n",
    "        return 60 - go_from, 60 - go_where\n",
    "    \n",
    "    def mirror_reward(self, r, player):\n",
    "        return r if player == 0 else -r\n",
    "    \n",
    "    def get_mirrored_action_mask(self):\n",
    "        \"\"\"\n",
    "        This function is also reloaded to behave like player is always playing white.\n",
    "        Modified original code from original env;\n",
    "        \n",
    "        Returns: action mask which as a 61*61 = 3721 numpy vector\n",
    "                 with 0 and 1. 0 if the action is illegal and 1 otherwise.\n",
    "        \"\"\"\n",
    "        player = self.game.current_player\n",
    "        possible_moves = self.game.get_possible_moves(player, group_by_type=False)\n",
    "        idx_from_move = lambda p0, p1: p0*61 + p1\n",
    "        possible_index = np.array([idx_from_move(*self.mirror_action(p0, p1)) for p0,p1 in possible_moves])\n",
    "        action_mask = np.zeros(61**2)\n",
    "        action_mask[possible_index] = np.ones(possible_index.shape)\n",
    "        return action_mask\n",
    "    \n",
    "    def render(self, fps=None):\n",
    "        self.env.render(fps=None if fps is None else 1/fps)  # error in original repository, fps was inverted"
   ]
  },
  {
   "cell_type": "code",
   "execution_count": 5,
   "id": "genetic-reconstruction",
   "metadata": {
    "ExecuteTime": {
     "end_time": "2021-04-28T19:58:36.549686Z",
     "start_time": "2021-04-28T19:58:36.540260Z"
    }
   },
   "outputs": [],
   "source": [
    "env = CustomWrapper(gym.make(\"abalone-v0\"))"
   ]
  },
  {
   "cell_type": "code",
   "execution_count": 6,
   "id": "minimal-eugene",
   "metadata": {
    "ExecuteTime": {
     "end_time": "2021-04-28T19:58:36.709726Z",
     "start_time": "2021-04-28T19:58:36.684718Z"
    }
   },
   "outputs": [],
   "source": [
    "s = env.reset()"
   ]
  },
  {
   "cell_type": "markdown",
   "id": "urban-sarah",
   "metadata": {},
   "source": [
    "State representation:\n",
    "* -2 is not a part of board\n",
    "* -1 is empty cell\n",
    "* 0 is white ball (\"our\")\n",
    "* 1 is black ball (\"enemy\")\n",
    "\n",
    "Board is actually hexagonal!"
   ]
  },
  {
   "cell_type": "code",
   "execution_count": 8,
   "id": "representative-firewall",
   "metadata": {
    "ExecuteTime": {
     "end_time": "2021-04-28T19:59:40.937360Z",
     "start_time": "2021-04-28T19:59:40.921563Z"
    }
   },
   "outputs": [
    {
     "data": {
      "text/plain": [
       "array([[[-2, -2, -2, -2, -2, -2, -2, -2, -2, -2, -2],\n",
       "        [-2, -2, -2, -2, -2,  1,  1,  1,  1,  1, -2],\n",
       "        [-2, -2, -2, -2,  1,  1,  1,  1,  1,  1, -2],\n",
       "        [-2, -2, -2, -1, -1,  1,  1,  1, -1, -1, -2],\n",
       "        [-2, -2, -1, -1, -1, -1, -1, -1, -1, -1, -2],\n",
       "        [-2, -1, -1, -1, -1, -1, -1, -1, -1, -1, -2],\n",
       "        [-2, -1, -1, -1, -1, -1, -1, -1, -1, -2, -2],\n",
       "        [-2, -1, -1,  0,  0,  0, -1, -1, -2, -2, -2],\n",
       "        [-2,  0,  0,  0,  0,  0,  0, -2, -2, -2, -2],\n",
       "        [-2,  0,  0,  0,  0,  0, -2, -2, -2, -2, -2],\n",
       "        [-2, -2, -2, -2, -2, -2, -2, -2, -2, -2, -2]]], dtype=int8)"
      ]
     },
     "execution_count": 8,
     "metadata": {},
     "output_type": "execute_result"
    }
   ],
   "source": [
    "s"
   ]
  },
  {
   "cell_type": "code",
   "execution_count": 10,
   "id": "acting-extension",
   "metadata": {
    "ExecuteTime": {
     "end_time": "2021-04-28T20:00:27.758028Z",
     "start_time": "2021-04-28T20:00:27.748026Z"
    }
   },
   "outputs": [
    {
     "data": {
      "text/plain": [
       "(1, 11, 11)"
      ]
     },
     "execution_count": 10,
     "metadata": {},
     "output_type": "execute_result"
    }
   ],
   "source": [
    "# so, state input is an image with 1 channel\n",
    "# (no memory of previous states is required)\n",
    "s.shape"
   ]
  },
  {
   "cell_type": "code",
   "execution_count": 11,
   "id": "unique-measure",
   "metadata": {
    "ExecuteTime": {
     "end_time": "2021-04-28T20:00:40.247608Z",
     "start_time": "2021-04-28T20:00:40.236606Z"
    }
   },
   "outputs": [
    {
     "data": {
      "text/plain": [
       "0"
      ]
     },
     "execution_count": 11,
     "metadata": {},
     "output_type": "execute_result"
    }
   ],
   "source": [
    "# this is the index of player, who has to make next move\n",
    "env.game.current_player"
   ]
  },
  {
   "cell_type": "code",
   "execution_count": 12,
   "id": "celtic-richards",
   "metadata": {
    "ExecuteTime": {
     "end_time": "2021-04-28T20:00:47.922361Z",
     "start_time": "2021-04-28T20:00:47.893814Z"
    }
   },
   "outputs": [
    {
     "data": {
      "text/plain": [
       "array([0., 0., 0., ..., 0., 0., 0.])"
      ]
     },
     "execution_count": 12,
     "metadata": {},
     "output_type": "execute_result"
    }
   ],
   "source": [
    "# mask of possible actions\n",
    "env.get_mirrored_action_mask()"
   ]
  },
  {
   "cell_type": "code",
   "execution_count": 13,
   "id": "empty-territory",
   "metadata": {
    "ExecuteTime": {
     "end_time": "2021-04-28T20:00:48.934380Z",
     "start_time": "2021-04-28T20:00:48.900371Z"
    }
   },
   "outputs": [
    {
     "data": {
      "text/plain": [
       "(array([2782, 2783, 2784, 2785, 2789, 2793, 2843, 2844, 2845, 2846, 2850,\n",
       "        2854, 2904, 2905, 2906, 2907, 2911, 2915, 3093, 3094, 3148, 3149,\n",
       "        3154, 3155, 3209, 3211, 3271, 3273, 3333, 3334, 3342, 3343, 3403,\n",
       "        3404, 3454, 3459, 3516, 3521, 3575, 3578, 3637, 3647, 3699, 3709],\n",
       "       dtype=int64),)"
      ]
     },
     "execution_count": 13,
     "metadata": {},
     "output_type": "execute_result"
    }
   ],
   "source": [
    "env.get_action_mask().nonzero()"
   ]
  },
  {
   "cell_type": "code",
   "execution_count": 14,
   "id": "touched-elephant",
   "metadata": {
    "ExecuteTime": {
     "end_time": "2021-04-28T20:01:03.210976Z",
     "start_time": "2021-04-28T20:01:03.179968Z"
    }
   },
   "outputs": [
    {
     "data": {
      "text/plain": [
       "44.0"
      ]
     },
     "execution_count": 14,
     "metadata": {},
     "output_type": "execute_result"
    }
   ],
   "source": [
    "# number of possible moves\n",
    "env.get_action_mask().sum()"
   ]
  },
  {
   "cell_type": "code",
   "execution_count": 15,
   "id": "fifteen-missile",
   "metadata": {
    "ExecuteTime": {
     "end_time": "2021-04-28T20:02:56.022257Z",
     "start_time": "2021-04-28T20:02:15.661358Z"
    }
   },
   "outputs": [],
   "source": [
    "# let's play\n",
    "env.reset()\n",
    "done = False\n",
    "\n",
    "while not done:\n",
    "    # select random action\n",
    "    action = random.choice(env.get_mirrored_action_mask().nonzero()[0])\n",
    "    \n",
    "    # reward is given to the player who sent this action\n",
    "    obs, reward, done, _ = env.step(action)\n",
    "    \n",
    "    # this will show a visualisation, fps limits how fast it will show moves\n",
    "    env.render(fps=5)"
   ]
  },
  {
   "cell_type": "code",
   "execution_count": 16,
   "id": "complete-burning",
   "metadata": {
    "ExecuteTime": {
     "end_time": "2021-04-28T20:02:59.151831Z",
     "start_time": "2021-04-28T20:02:59.132746Z"
    }
   },
   "outputs": [],
   "source": [
    "env.close()"
   ]
  },
  {
   "cell_type": "markdown",
   "id": "personalized-detective",
   "metadata": {},
   "source": [
    "# Models"
   ]
  },
  {
   "cell_type": "markdown",
   "id": "political-surprise",
   "metadata": {},
   "source": [
    "Let's just use some architecture for NN like in AlphaZero. There should be two heads: one for V-function approximation V(s) and one approximation of policy p(a | s)."
   ]
  },
  {
   "cell_type": "code",
   "execution_count": 18,
   "id": "acquired-prairie",
   "metadata": {
    "ExecuteTime": {
     "end_time": "2021-04-28T20:03:58.506263Z",
     "start_time": "2021-04-28T20:03:58.491722Z"
    }
   },
   "outputs": [],
   "source": [
    "device = \"cuda\" if torch.cuda.is_available() else \"cpu\"\n",
    "N_ACTIONS = 3721"
   ]
  },
  {
   "cell_type": "code",
   "execution_count": 19,
   "id": "disabled-territory",
   "metadata": {
    "ExecuteTime": {
     "end_time": "2021-04-28T20:06:09.887852Z",
     "start_time": "2021-04-28T20:06:09.878858Z"
    }
   },
   "outputs": [],
   "source": [
    "class AbaloneNN(nn.Module):\n",
    "    def __init__(self):\n",
    "        super().__init__()\n",
    "        \n",
    "        self.layers = nn.Sequential(\n",
    "            nn.Conv2d(1, 32, 3, padding=1),\n",
    "            nn.ReLU(),\n",
    "            nn.Conv2d(32, 32, 3, padding=1),\n",
    "            nn.ReLU(),\n",
    "            nn.Conv2d(32, 32, 3),\n",
    "            nn.ReLU(),\n",
    "            nn.Flatten(),\n",
    "            nn.Linear(2592, 512),\n",
    "            nn.ReLU()\n",
    "        )\n",
    "        \n",
    "        self.policy_head = nn.Linear(512, N_ACTIONS)\n",
    "        self.value_head = nn.Linear(512, 1)\n",
    "        \n",
    "    def forward(self, x):\n",
    "        x = self.layers(x)\n",
    "        return self.policy_head(x), self.value_head(x).squeeze(-1)\n",
    "    \n",
    "    def apply(self, x, allowed_actions):\n",
    "        '''\n",
    "        Works with numpy input and numpy output\n",
    "        \n",
    "        input: x - single state, numpy\n",
    "               allowed_actions - numpy, mask of allowed actions\n",
    "               \n",
    "        output: policy - numpy, vector of probabilities; probabilities of impossible actions are 0\n",
    "                V      - scalar, approximation of future rewards\n",
    "        \n",
    "        '''\n",
    "        inp = torch.FloatTensor([x]).to(device)\n",
    "        prior_policy, critic_estimation = self.forward(inp)\n",
    "        critic_estimation = critic_estimation[0].cpu().numpy()\n",
    "        \n",
    "        prior_policy = prior_policy[0].cpu().numpy()\n",
    "        prior_policy = np.exp(prior_policy)      # custom softmax        \n",
    "        prior_policy *= allowed_actions          # masking impossible actions\n",
    "        prior_policy /= prior_policy.sum()       # normalizing\n",
    "        return prior_policy, critic_estimation"
   ]
  },
  {
   "cell_type": "code",
   "execution_count": 20,
   "id": "opposite-liverpool",
   "metadata": {
    "ExecuteTime": {
     "end_time": "2021-04-28T20:06:18.394876Z",
     "start_time": "2021-04-28T20:06:18.356869Z"
    }
   },
   "outputs": [],
   "source": [
    "# testing just in case\n",
    "model = AbaloneNN()\n",
    "inp = torch.Tensor(size=(10,1,11,11)).uniform_()\n",
    "output = model(inp)\n",
    "assert len(output) == 2\n",
    "assert output[0].shape == (10, N_ACTIONS)\n",
    "assert output[1].shape == (10,)"
   ]
  },
  {
   "cell_type": "markdown",
   "id": "statutory-celebrity",
   "metadata": {},
   "source": [
    "# MCTS"
   ]
  },
  {
   "cell_type": "markdown",
   "id": "italian-withdrawal",
   "metadata": {},
   "source": [
    "Let's create AlphaZero-like MCTS procedure."
   ]
  },
  {
   "cell_type": "code",
   "execution_count": 22,
   "id": "exempt-petite",
   "metadata": {
    "ExecuteTime": {
     "end_time": "2021-04-28T20:19:56.642424Z",
     "start_time": "2021-04-28T20:19:56.633422Z"
    }
   },
   "outputs": [],
   "source": [
    "class Node:\n",
    "    \"\"\"A tree node for MCTS.\"\"\"\n",
    "\n",
    "    def __init__(self, player, parent=None, action=None, prior_proba=None):\n",
    "        \"\"\"\n",
    "        Creates and empty node with no children.\n",
    "        input: player - index of player, who selects action in this node\n",
    "               parent - reference to parent node, or None if this is root\n",
    "               action - action selected from parent node to this node\n",
    "               prior_proba - scalar, output of model p(a | s)\n",
    "        \"\"\"\n",
    "\n",
    "        self.parent = parent\n",
    "        self.action = action\n",
    "        self.player = player\n",
    "        self.children = set()  # set of child nodes\n",
    "        \n",
    "        self.qvalue_sum = 0.      # sum of Q-values from all visits (numerator)\n",
    "        self.times_visited = 0    # counter of visits (denominator)\n",
    "        self.immediate_reward = 0 # r(parent_node, self.action)\n",
    "        self.is_done = False      # if true, this node is leaf and no action choise is performed from here\n",
    "        \n",
    "        self.prior_policy_probability = prior_proba  # probability of this action to be chosen p(a | s)\n",
    "\n",
    "    def is_leaf(self):\n",
    "        return len(self.children) == 0\n",
    "\n",
    "    def is_root(self):\n",
    "        return self.parent is None\n",
    "\n",
    "    def get_qvalue_estimate(self, player):\n",
    "        q = self.qvalue_sum / self.times_visited if self.times_visited != 0 else 0\n",
    "        return q if player == 0 else -q  # player 1 wants to minimize our reward\n",
    "\n",
    "    def ucb_score(self, player, scale=10, max_value=1e100):\n",
    "        \"\"\"\n",
    "        Computes ucb1 upper bound using current value and visit counts for node and it's parent.\n",
    "\n",
    "        input: player: index of player, for which ucb score is computed (actually it is self.parent.player always o_O)\n",
    "               scale: Multiplies upper bound by that. From Hoeffding inequality,\n",
    "                      assumes reward range to be [0, scale].\n",
    "               max_value: a value that represents infinity (for unvisited nodes).\n",
    "\n",
    "        \"\"\"\n",
    "\n",
    "        if self.times_visited == 0:\n",
    "            return max_value\n",
    "\n",
    "        # computing exploration bonus, UCB bandits inspired\n",
    "        # self.parent.times_visited is number of times parent node was considered\n",
    "        # self.times_visited is number of times this node was visited\n",
    "\n",
    "        U = self.prior_policy_probability * (self.parent.times_visited**0.5) / (self.times_visited + 1)\n",
    "\n",
    "        return self.get_qvalue_estimate(player) + scale * U\n",
    "\n",
    "    def select_best_leaf(self, simulator):\n",
    "        \"\"\"\n",
    "        Picks the leaf with the highest priority to expand.\n",
    "        Does so by recursively picking nodes with the best UCB-1 score until it reaches a leaf.\n",
    "        \"\"\"\n",
    "        if not self.is_root():            \n",
    "            _, self.immediate_reward, self.is_done, _ = simulator.step(self.action)\n",
    "        \n",
    "        if self.is_leaf():\n",
    "            return self\n",
    "\n",
    "        # Select the child node with the highest UCB score. \n",
    "        # Argmax selected randomly to break ties in a smart way.\n",
    "        best_score = max(child.ucb_score(self.player) for child in self.children)\n",
    "        candidates = [child for child in self.children if child.ucb_score(self.player) == best_score]\n",
    "        best_child = random.choice(candidates)\n",
    "\n",
    "        return best_child.select_best_leaf(simulator)\n",
    "\n",
    "    def expand(self, model, simulator):\n",
    "        \"\"\"\n",
    "        Expands the current node by creating all possible child nodes.\n",
    "        Returns estimation of future reward\n",
    "        \"\"\"\n",
    "        if self.is_done:\n",
    "            return 0\n",
    "        \n",
    "        allowed_actions = simulator.get_mirrored_action_mask()\n",
    "        \n",
    "        with torch.no_grad():\n",
    "            prior_policy, critic_estimation = model.apply(simulator.latest_observation, allowed_actions)\n",
    "\n",
    "        for action in allowed_actions.nonzero()[0]:\n",
    "            self.children.add(Node(player=int(not self.player), \n",
    "                                   parent=self, \n",
    "                                   action=action, \n",
    "                                   prior_proba=prior_policy[action]))\n",
    "            \n",
    "        return critic_estimation\n",
    "\n",
    "    def propagate(self, child_qvalue):\n",
    "        \"\"\"\n",
    "        Uses child Q-value (sum of rewards) to update parents recursively.\n",
    "        \"\"\"\n",
    "        # update qvalue_sum and times_visited\n",
    "        self.qvalue_sum += child_qvalue\n",
    "        self.times_visited += 1\n",
    "\n",
    "        # propagate upwards\n",
    "        if not self.is_root():\n",
    "            self.parent.propagate(self.immediate_reward + child_qvalue)"
   ]
  },
  {
   "cell_type": "code",
   "execution_count": 23,
   "id": "republican-singing",
   "metadata": {
    "ExecuteTime": {
     "end_time": "2021-04-28T20:21:13.110990Z",
     "start_time": "2021-04-28T20:21:13.095978Z"
    }
   },
   "outputs": [],
   "source": [
    "class MCTS():\n",
    "    '''\n",
    "    Class for MCTS strategy\n",
    "    '''\n",
    "    def __init__(self):        \n",
    "        self.model = AbaloneNN().to(device)\n",
    "        self.optimizer = torch.optim.Adam(self.model.parameters(), lr=3e-4)\n",
    "        \n",
    "    def save(self, PATH):\n",
    "        torch.save(self.model.state_dict(), PATH)\n",
    "        torch.save(self.optimizer.state_dict(), PATH + \"_optimizer\")\n",
    "        \n",
    "    def load(self, PATH):\n",
    "        self.model.load_state_dict(torch.load(PATH))\n",
    "        self.optimizer.load_state_dict(torch.load(PATH + \"_optimizer\"))\n",
    "        \n",
    "    def clear_tree(self, starting_player):\n",
    "        self.root = Node(player=starting_player)\n",
    "        \n",
    "    def plan(self, simulator):\n",
    "        '''\n",
    "        Performs 1 selection-expansion-backpropagation iteration of MCTS planning procedure\n",
    "        '''\n",
    "        leaf = self.root.select_best_leaf(simulator)\n",
    "        future_reward = leaf.expand(self.model, simulator)\n",
    "        leaf.propagate(future_reward)\n",
    "        \n",
    "    def get_policy(self, temperature=1):\n",
    "        '''\n",
    "        Returns an exploratory (non-greedy) policy based on visitation counters\n",
    "        '''\n",
    "        probas = np.zeros(N_ACTIONS)\n",
    "        for child in self.root.children:\n",
    "            probas[child.action] = child.times_visited**temperature\n",
    "        probas /= probas.sum()\n",
    "        return probas\n",
    "    \n",
    "    def root_from_subtree(self, action):\n",
    "        '''\n",
    "        Cuts subtree corresponding to given action\n",
    "        '''\n",
    "        for child in self.root.children:\n",
    "            if child.action == action:\n",
    "                self.root = child\n",
    "                self.root.parent, self.root.action = None, None\n",
    "                self.root.immediate_reward = 0\n",
    "                print(f\"new root was visited {self.root.times_visited} times\")\n",
    "                assert not child.is_done\n",
    "                return\n",
    "        \n",
    "        # if enemy, for example, selected an action that we never considered\n",
    "        # can happen of the first turn, when MCTS is not given a chance to plan\n",
    "        print(\"this node was never visited\")\n",
    "        self.clear_tree(not self.root.player)\n",
    "        \n",
    "    def launch_NN_policy(self, obs, allowed_actions):\n",
    "        '''\n",
    "        Select action using fast NN policy\n",
    "        output: action - int\n",
    "        '''\n",
    "        with torch.no_grad():\n",
    "            prior_policy, _ = self.model.apply(obs, allowed_actions)\n",
    "            return np.random.choice(np.arange(N_ACTIONS), p=prior_policy)"
   ]
  },
  {
   "cell_type": "markdown",
   "id": "adjustable-cargo",
   "metadata": {},
   "source": [
    "# Let's play"
   ]
  },
  {
   "cell_type": "markdown",
   "id": "premier-bench",
   "metadata": {},
   "source": [
    "Let's try our MCTS policy! We will plan for 1000 MCTS steps before selecting action for white player. Black player will play randomly."
   ]
  },
  {
   "cell_type": "code",
   "execution_count": 24,
   "id": "welsh-orbit",
   "metadata": {
    "ExecuteTime": {
     "end_time": "2021-04-28T20:24:06.041765Z",
     "start_time": "2021-04-28T20:24:06.028433Z"
    }
   },
   "outputs": [],
   "source": [
    "from tqdm import tqdm_notebook as tqdm\n",
    "\n",
    "def play_game_against_random_actor(env, mcts, n_iter=1000):\n",
    "    # initialization\n",
    "    s = env.reset()\n",
    "    renderer_env = deepcopy(env)  # we will create simulator by deepcopying env, so there shoud be no GUI inside env\n",
    "    done = False\n",
    "    t = 0\n",
    "    R = 0\n",
    "    mcts.clear_tree(env.game.current_player)\n",
    "    \n",
    "    # playing\n",
    "    while not done:\n",
    "        if env.game.current_player == 0:\n",
    "            # planning\n",
    "            for _ in tqdm(range(n_iter)):\n",
    "                simulator = deepcopy(env)\n",
    "                mcts.plan(simulator)\n",
    "            \n",
    "            # get MCTS policy\n",
    "            mcts_policy = mcts.get_policy()\n",
    "            print(\"Policy probas: \", mcts_policy[mcts_policy > 0])\n",
    "            \n",
    "            # sampling from it\n",
    "            action = np.random.choice(np.arange(N_ACTIONS), p=mcts_policy)\n",
    "        else:\n",
    "            action = random.choice(env.get_mirrored_action_mask().nonzero()[0])\n",
    "        \n",
    "        s, r, done, _ = env.step(action)\n",
    "        print(\"Reward per step:\", r)\n",
    "        t += 1\n",
    "        R += r\n",
    "        \n",
    "        # cutting MCTS subtree\n",
    "        if not done:\n",
    "            mcts.root_from_subtree(action)\n",
    "        \n",
    "        # rendering (render_env is given the same action)\n",
    "        renderer_env.step(action)\n",
    "        renderer_env.render()\n",
    "    \n",
    "    # destroying GUI\n",
    "    renderer_env.close()\n",
    "    \n",
    "    # output: total reward, number of timesteps\n",
    "    return R, t"
   ]
  },
  {
   "cell_type": "code",
   "execution_count": 25,
   "id": "lucky-partnership",
   "metadata": {
    "ExecuteTime": {
     "end_time": "2021-04-28T20:24:10.205467Z",
     "start_time": "2021-04-28T20:24:09.009133Z"
    },
    "scrolled": true
   },
   "outputs": [],
   "source": [
    "env = CustomWrapper(gym.make(\"abalone-v0\"))\n",
    "mcts = MCTS()"
   ]
  },
  {
   "cell_type": "code",
   "execution_count": 26,
   "id": "split-distribution",
   "metadata": {
    "ExecuteTime": {
     "end_time": "2021-04-28T20:31:21.248883Z",
     "start_time": "2021-04-28T20:24:11.900720Z"
    }
   },
   "outputs": [
    {
     "name": "stderr",
     "output_type": "stream",
     "text": [
      "<ipython-input-24-1a5521b25766>:16: TqdmDeprecationWarning: This function will be removed in tqdm==5.0.0\n",
      "Please use `tqdm.notebook.tqdm` instead of `tqdm.tqdm_notebook`\n",
      "  for _ in tqdm(range(n_iter)):\n"
     ]
    },
    {
     "data": {
      "application/vnd.jupyter.widget-view+json": {
       "model_id": "548083241df2459bba7663e72a1f1bc7",
       "version_major": 2,
       "version_minor": 0
      },
      "text/plain": [
       "  0%|          | 0/1000 [00:00<?, ?it/s]"
      ]
     },
     "metadata": {},
     "output_type": "display_data"
    },
    {
     "name": "stdout",
     "output_type": "stream",
     "text": [
      "Policy probas:  [0.02202202 0.02202202 0.02202202 0.02302302 0.02302302 0.02302302\n",
      " 0.02302302 0.02202202 0.02202202 0.02302302 0.02302302 0.02102102\n",
      " 0.02302302 0.02302302 0.02302302 0.02202202 0.02302302 0.02302302\n",
      " 0.02102102 0.02302302 0.02302302 0.02302302 0.02402402 0.02202202\n",
      " 0.02302302 0.02202202 0.02402402 0.02302302 0.02202202 0.02302302\n",
      " 0.02202202 0.02302302 0.02402402 0.02302302 0.02302302 0.02402402\n",
      " 0.02302302 0.02302302 0.02402402 0.02302302 0.02202202 0.02102102\n",
      " 0.02302302 0.02202202]\n",
      "Reward per step: -0.1\n",
      "new root was visited 23 times\n",
      "Reward per step: 0.1\n",
      "new root was visited 0 times\n"
     ]
    },
    {
     "data": {
      "application/vnd.jupyter.widget-view+json": {
       "model_id": "4903bad2a8b243bb8605dc52ef119148",
       "version_major": 2,
       "version_minor": 0
      },
      "text/plain": [
       "  0%|          | 0/1000 [00:00<?, ?it/s]"
      ]
     },
     "metadata": {},
     "output_type": "display_data"
    },
    {
     "name": "stdout",
     "output_type": "stream",
     "text": [
      "Policy probas:  [0.01701702 0.01901902 0.01801802 0.01801802 0.01801802 0.01801802\n",
      " 0.01801802 0.01701702 0.01801802 0.01801802 0.01801802 0.01801802\n",
      " 0.01901902 0.01901902 0.01801802 0.01801802 0.01801802 0.01901902\n",
      " 0.01801802 0.01701702 0.01701702 0.01801802 0.01801802 0.01901902\n",
      " 0.01801802 0.01801802 0.01901902 0.01801802 0.01701702 0.01801802\n",
      " 0.01901902 0.01901902 0.01901902 0.01801802 0.01801802 0.01901902\n",
      " 0.01801802 0.01801802 0.01801802 0.01801802 0.01801802 0.01901902\n",
      " 0.01901902 0.01901902 0.01901902 0.01801802 0.01901902 0.01801802\n",
      " 0.01801802 0.01801802 0.01701702 0.01801802 0.01901902 0.01701702\n",
      " 0.01801802]\n",
      "Reward per step: -0.1\n",
      "new root was visited 18 times\n",
      "Reward per step: 0.1\n",
      "new root was visited 0 times\n"
     ]
    },
    {
     "data": {
      "application/vnd.jupyter.widget-view+json": {
       "model_id": "119e1fbd4a05415c92535c7f7ed5289d",
       "version_major": 2,
       "version_minor": 0
      },
      "text/plain": [
       "  0%|          | 0/1000 [00:00<?, ?it/s]"
      ]
     },
     "metadata": {},
     "output_type": "display_data"
    },
    {
     "name": "stdout",
     "output_type": "stream",
     "text": [
      "Policy probas:  [0.01701702 0.01701702 0.01801802 0.01801802 0.01801802 0.01701702\n",
      " 0.01901902 0.01501502 0.01201201 0.01801802 0.01701702 0.01801802\n",
      " 0.01701702 0.01701702 0.01701702 0.01701702 0.01801802 0.01801802\n",
      " 0.01701702 0.01701702 0.01701702 0.01801802 0.01701702 0.01801802\n",
      " 0.01801802 0.01801802 0.01801802 0.01601602 0.01701702 0.01801802\n",
      " 0.01801802 0.01801802 0.01901902 0.01701702 0.01801802 0.01801802\n",
      " 0.01801802 0.01801802 0.01701702 0.01801802 0.01801802 0.01801802\n",
      " 0.01701702 0.01801802 0.01801802 0.01801802 0.01901902 0.01901902\n",
      " 0.01701702 0.01801802 0.01801802 0.01701702 0.01901902 0.01701702\n",
      " 0.01701702 0.01701702 0.01801802]\n",
      "Reward per step: -0.1\n",
      "new root was visited 18 times\n",
      "Reward per step: 0.1\n",
      "new root was visited 0 times\n"
     ]
    },
    {
     "data": {
      "application/vnd.jupyter.widget-view+json": {
       "model_id": "e7a8e156174a40028a8e6658155e48ab",
       "version_major": 2,
       "version_minor": 0
      },
      "text/plain": [
       "  0%|          | 0/1000 [00:00<?, ?it/s]"
      ]
     },
     "metadata": {},
     "output_type": "display_data"
    },
    {
     "name": "stdout",
     "output_type": "stream",
     "text": [
      "Policy probas:  [0.01501502 0.01501502 0.01401401 0.01601602 0.01601602 0.01501502\n",
      " 0.01501502 0.01501502 0.01601602 0.01601602 0.01601602 0.01501502\n",
      " 0.01501502 0.01501502 0.01601602 0.01501502 0.01601602 0.01501502\n",
      " 0.01601602 0.01701702 0.01601602 0.01501502 0.01601602 0.01601602\n",
      " 0.01701702 0.01601602 0.01501502 0.01601602 0.01501502 0.01501502\n",
      " 0.01501502 0.01601602 0.01301301 0.01601602 0.01501502 0.01601602\n",
      " 0.01601602 0.01601602 0.01501502 0.01601602 0.01601602 0.01701702\n",
      " 0.01601602 0.01601602 0.01501502 0.01601602 0.01601602 0.01601602\n",
      " 0.01501502 0.01601602 0.01601602 0.01701702 0.01601602 0.01601602\n",
      " 0.01701702 0.01501502 0.01501502 0.01601602 0.01501502 0.01501502\n",
      " 0.01501502 0.01601602 0.01501502 0.01601602]\n",
      "Reward per step: -0.1\n",
      "new root was visited 15 times\n",
      "Reward per step: 0.1\n",
      "new root was visited 0 times\n"
     ]
    },
    {
     "data": {
      "application/vnd.jupyter.widget-view+json": {
       "model_id": "3b65562877ae46e6b75746ae97feaac6",
       "version_major": 2,
       "version_minor": 0
      },
      "text/plain": [
       "  0%|          | 0/1000 [00:00<?, ?it/s]"
      ]
     },
     "metadata": {},
     "output_type": "display_data"
    },
    {
     "name": "stdout",
     "output_type": "stream",
     "text": [
      "Policy probas:  [0.01401401 0.01501502 0.01601602 0.01601602 0.01501502 0.01401401\n",
      " 0.01301301 0.01501502 0.01501502 0.01501502 0.01501502 0.01401401\n",
      " 0.01601602 0.01601602 0.01501502 0.01501502 0.01501502 0.01501502\n",
      " 0.01501502 0.01501502 0.01501502 0.01601602 0.01601602 0.01501502\n",
      " 0.01401401 0.01601602 0.01601602 0.01501502 0.01501502 0.01501502\n",
      " 0.01401401 0.01501502 0.01501502 0.01501502 0.01301301 0.01501502\n",
      " 0.01501502 0.01601602 0.01501502 0.01401401 0.01601602 0.01601602\n",
      " 0.01601602 0.01601602 0.01501502 0.01501502 0.01601602 0.01601602\n",
      " 0.01501502 0.01501502 0.01501502 0.01601602 0.01601602 0.01601602\n",
      " 0.01501502 0.01601602 0.01501502 0.01501502 0.01501502 0.01401401\n",
      " 0.01501502 0.01501502 0.01501502 0.01501502 0.01501502 0.01601602]\n",
      "Reward per step: -0.1\n",
      "new root was visited 15 times\n",
      "Reward per step: 0.1\n",
      "new root was visited 0 times\n"
     ]
    },
    {
     "data": {
      "application/vnd.jupyter.widget-view+json": {
       "model_id": "53df3697e0824840bd8dc4864d00565e",
       "version_major": 2,
       "version_minor": 0
      },
      "text/plain": [
       "  0%|          | 0/1000 [00:00<?, ?it/s]"
      ]
     },
     "metadata": {},
     "output_type": "display_data"
    },
    {
     "name": "stdout",
     "output_type": "stream",
     "text": [
      "Policy probas:  [0.02002002 0.01801802 0.01801802 0.02002002 0.01901902 0.01701702\n",
      " 0.01901902 0.01901902 0.01801802 0.01801802 0.01801802 0.02002002\n",
      " 0.01901902 0.01901902 0.01901902 0.01401401 0.01901902 0.01901902\n",
      " 0.01801802 0.01901902 0.01901902 0.02002002 0.01901902 0.01801802\n",
      " 0.01901902 0.01901902 0.01901902 0.02002002 0.02002002 0.01901902\n",
      " 0.01901902 0.01901902 0.01901902 0.01901902 0.01801802 0.01901902\n",
      " 0.01901902 0.01901902 0.01801802 0.01901902 0.02002002 0.01901902\n",
      " 0.02002002 0.02002002 0.01801802 0.01901902 0.02002002 0.01901902\n",
      " 0.02002002 0.01801802 0.01901902 0.01801802 0.01901902]\n",
      "Reward per step: -0.1\n",
      "new root was visited 19 times\n",
      "Reward per step: 0.1\n",
      "new root was visited 1 times\n"
     ]
    },
    {
     "data": {
      "application/vnd.jupyter.widget-view+json": {
       "model_id": "0991cbdc33de44d985be3322ea93a576",
       "version_major": 2,
       "version_minor": 0
      },
      "text/plain": [
       "  0%|          | 0/1000 [00:00<?, ?it/s]"
      ]
     },
     "metadata": {},
     "output_type": "display_data"
    },
    {
     "name": "stdout",
     "output_type": "stream",
     "text": [
      "Policy probas:  [0.017 0.016 0.015 0.017 0.016 0.016 0.017 0.016 0.016 0.014 0.016 0.016\n",
      " 0.017 0.017 0.016 0.016 0.016 0.016 0.017 0.014 0.017 0.016 0.016 0.016\n",
      " 0.017 0.016 0.016 0.017 0.017 0.015 0.016 0.017 0.016 0.017 0.018 0.017\n",
      " 0.017 0.017 0.016 0.017 0.017 0.016 0.016 0.017 0.017 0.017 0.016 0.016\n",
      " 0.017 0.018 0.016 0.017 0.017 0.016 0.017 0.016 0.016 0.015 0.017 0.017\n",
      " 0.017]\n",
      "Reward per step: -0.1\n",
      "new root was visited 16 times\n",
      "Reward per step: 0.1\n",
      "new root was visited 1 times\n"
     ]
    },
    {
     "data": {
      "application/vnd.jupyter.widget-view+json": {
       "model_id": "872cd0bec5d649a6a121ab65533c236f",
       "version_major": 2,
       "version_minor": 0
      },
      "text/plain": [
       "  0%|          | 0/1000 [00:00<?, ?it/s]"
      ]
     },
     "metadata": {},
     "output_type": "display_data"
    },
    {
     "name": "stdout",
     "output_type": "stream",
     "text": [
      "Policy probas:  [0.02  0.017 0.018 0.021 0.019 0.017 0.02  0.019 0.019 0.019 0.016 0.017\n",
      " 0.017 0.017 0.019 0.02  0.019 0.02  0.017 0.019 0.019 0.016 0.017 0.015\n",
      " 0.018 0.016 0.014 0.017 0.017 0.018 0.019 0.016 0.02  0.017 0.018 0.02\n",
      " 0.013 0.02  0.019 0.016 0.02  0.019 0.017 0.015 0.019 0.018 0.02  0.015\n",
      " 0.018 0.016 0.018 0.019 0.019 0.021 0.013 0.018]\n",
      "Reward per step: -0.1\n",
      "new root was visited 19 times\n",
      "Reward per step: 0.1\n",
      "new root was visited 1 times\n"
     ]
    },
    {
     "data": {
      "application/vnd.jupyter.widget-view+json": {
       "model_id": "1d200335317143589591cdbb0425d8a9",
       "version_major": 2,
       "version_minor": 0
      },
      "text/plain": [
       "  0%|          | 0/1000 [00:00<?, ?it/s]"
      ]
     },
     "metadata": {},
     "output_type": "display_data"
    },
    {
     "name": "stdout",
     "output_type": "stream",
     "text": [
      "Policy probas:  [0.018 0.014 0.016 0.018 0.018 0.017 0.017 0.017 0.016 0.017 0.016 0.018\n",
      " 0.017 0.016 0.017 0.017 0.017 0.018 0.016 0.017 0.017 0.018 0.018 0.018\n",
      " 0.017 0.016 0.017 0.017 0.018 0.017 0.017 0.017 0.017 0.017 0.017 0.017\n",
      " 0.017 0.017 0.017 0.017 0.016 0.017 0.018 0.017 0.016 0.016 0.017 0.017\n",
      " 0.017 0.017 0.018 0.016 0.016 0.018 0.017 0.017 0.017 0.017 0.016]\n",
      "Reward per step: -0.1\n",
      "new root was visited 16 times\n",
      "Reward per step: 0.1\n",
      "new root was visited 0 times\n"
     ]
    },
    {
     "data": {
      "application/vnd.jupyter.widget-view+json": {
       "model_id": "edc9fce6033945caaf7f50f3306c33ac",
       "version_major": 2,
       "version_minor": 0
      },
      "text/plain": [
       "  0%|          | 0/1000 [00:00<?, ?it/s]"
      ]
     },
     "metadata": {},
     "output_type": "display_data"
    },
    {
     "name": "stdout",
     "output_type": "stream",
     "text": [
      "Policy probas:  [0.01701702 0.01701702 0.01801802 0.01901902 0.01701702 0.01301301\n",
      " 0.01701702 0.01401401 0.01701702 0.01701702 0.01801802 0.01701702\n",
      " 0.01701702 0.01501502 0.01601602 0.01801802 0.01501502 0.01701702\n",
      " 0.01601602 0.01501502 0.01601602 0.01501502 0.01501502 0.01501502\n",
      " 0.01801802 0.01701702 0.01801802 0.01801802 0.01601602 0.01701702\n",
      " 0.01801802 0.01801802 0.01701702 0.01801802 0.01601602 0.01601602\n",
      " 0.01701702 0.01801802 0.01801802 0.01801802 0.01701702 0.01901902\n",
      " 0.01801802 0.01701702 0.01501502 0.01801802 0.01601602 0.01501502\n",
      " 0.01701702 0.01801802 0.01801802 0.01801802 0.01801802 0.01801802\n",
      " 0.01701702 0.01801802 0.01801802 0.01701702 0.01801802]\n",
      "Reward per step: -0.1\n",
      "new root was visited 18 times\n",
      "Reward per step: 0.1\n",
      "new root was visited 0 times\n"
     ]
    },
    {
     "data": {
      "application/vnd.jupyter.widget-view+json": {
       "model_id": "d70f20ec7fe549a1a43d54c0eb0b3fee",
       "version_major": 2,
       "version_minor": 0
      },
      "text/plain": [
       "  0%|          | 0/1000 [00:00<?, ?it/s]"
      ]
     },
     "metadata": {},
     "output_type": "display_data"
    },
    {
     "name": "stdout",
     "output_type": "stream",
     "text": [
      "Policy probas:  [0.01701702 0.01701702 0.01601602 0.01901902 0.01701702 0.01301301\n",
      " 0.01401401 0.01601602 0.01701702 0.01801802 0.01801802 0.01701702\n",
      " 0.01701702 0.01401401 0.01801802 0.01501502 0.01801802 0.01801802\n",
      " 0.01601602 0.01701702 0.01501502 0.01501502 0.01301301 0.01801802\n",
      " 0.01701702 0.01801802 0.01601602 0.01801802 0.01401401 0.01701702\n",
      " 0.01801802 0.01601602 0.01701702 0.01801802 0.01801802 0.01801802\n",
      " 0.01701702 0.01601602 0.01301301 0.01501502 0.01701702 0.01801802\n",
      " 0.01701702 0.01501502 0.01501502 0.01801802 0.01701702 0.01501502\n",
      " 0.01501502 0.01601602 0.01801802 0.01601602 0.01801802 0.01801802\n",
      " 0.01701702 0.01901902 0.01901902 0.01701702 0.01701702 0.01801802]\n",
      "Reward per step: -0.1\n",
      "new root was visited 17 times\n",
      "Reward per step: 0.1\n",
      "new root was visited 0 times\n"
     ]
    },
    {
     "data": {
      "application/vnd.jupyter.widget-view+json": {
       "model_id": "7dfc2177500d4b38ac684fd37bc34352",
       "version_major": 2,
       "version_minor": 0
      },
      "text/plain": [
       "  0%|          | 0/1000 [00:00<?, ?it/s]"
      ]
     },
     "metadata": {},
     "output_type": "display_data"
    },
    {
     "name": "stdout",
     "output_type": "stream",
     "text": [
      "Policy probas:  [0.01801802 0.01501502 0.01601602 0.01901902 0.01801802 0.01501502\n",
      " 0.01601602 0.01801802 0.01401401 0.01901902 0.01801802 0.01701702\n",
      " 0.01901902 0.01701702 0.01901902 0.01601602 0.01701702 0.01601602\n",
      " 0.01801802 0.01401401 0.01601602 0.01501502 0.01501502 0.01801802\n",
      " 0.01901902 0.01701702 0.01601602 0.01801802 0.01801802 0.01601602\n",
      " 0.01701702 0.01801802 0.01601602 0.01801802 0.01701702 0.01801802\n",
      " 0.01801802 0.01801802 0.01501502 0.01901902 0.01601602 0.01501502\n",
      " 0.01801802 0.01501502 0.01501502 0.01601602 0.01501502 0.01801802\n",
      " 0.01701702 0.01901902 0.01601602 0.01801802 0.01601602 0.01601602\n",
      " 0.01901902 0.01701702 0.01701702 0.01701702 0.01801802]\n",
      "Reward per step: -0.1\n",
      "new root was visited 18 times\n",
      "Reward per step: 0.1\n",
      "new root was visited 0 times\n"
     ]
    },
    {
     "data": {
      "application/vnd.jupyter.widget-view+json": {
       "model_id": "5b1cdb6801cb452a9194c62477dbb424",
       "version_major": 2,
       "version_minor": 0
      },
      "text/plain": [
       "  0%|          | 0/1000 [00:00<?, ?it/s]"
      ]
     },
     "metadata": {},
     "output_type": "display_data"
    },
    {
     "name": "stdout",
     "output_type": "stream",
     "text": [
      "Policy probas:  [0.01401401 0.01301301 0.01401401 0.01501502 0.01401401 0.01201201\n",
      " 0.01001001 0.01301301 0.01401401 0.01201201 0.01101101 0.01301301\n",
      " 0.01101101 0.01201201 0.01401401 0.01101101 0.01401401 0.01301301\n",
      " 0.01501502 0.01501502 0.01201201 0.01401401 0.01401401 0.01401401\n",
      " 0.01101101 0.01501502 0.01401401 0.01101101 0.01401401 0.01401401\n",
      " 0.01201201 0.01401401 0.01401401 0.01301301 0.01301301 0.01501502\n",
      " 0.01401401 0.01401401 0.01501502 0.01201201 0.01401401 0.01501502\n",
      " 0.01501502 0.01401401 0.01401401 0.01201201 0.01401401 0.01501502\n",
      " 0.01401401 0.01201201 0.01401401 0.01401401 0.01201201 0.01401401\n",
      " 0.01501502 0.01401401 0.01401401 0.01201201 0.01201201 0.01401401\n",
      " 0.01201201 0.01401401 0.01401401 0.01301301 0.01501502 0.01401401\n",
      " 0.01401401 0.01501502 0.01401401 0.01501502 0.01401401 0.01401401\n",
      " 0.01401401 0.01401401]\n",
      "Reward per step: -0.1\n",
      "new root was visited 14 times\n",
      "Reward per step: 0.1\n",
      "new root was visited 0 times\n"
     ]
    },
    {
     "data": {
      "application/vnd.jupyter.widget-view+json": {
       "model_id": "688685e136c74d58a33905d1de50fd06",
       "version_major": 2,
       "version_minor": 0
      },
      "text/plain": [
       "  0%|          | 0/1000 [00:00<?, ?it/s]"
      ]
     },
     "metadata": {},
     "output_type": "display_data"
    },
    {
     "name": "stdout",
     "output_type": "stream",
     "text": [
      "Policy probas:  [0.01501502 0.01201201 0.01601602 0.01601602 0.01501502 0.01601602\n",
      " 0.01201201 0.01401401 0.01501502 0.01301301 0.01501502 0.01201201\n",
      " 0.01501502 0.01301301 0.01301301 0.01601602 0.01601602 0.01401401\n",
      " 0.01101101 0.01501502 0.01301301 0.01401401 0.01501502 0.01601602\n",
      " 0.01601602 0.01501502 0.01401401 0.01601602 0.01301301 0.01401401\n",
      " 0.01501502 0.01501502 0.01501502 0.01301301 0.01601602 0.01501502\n",
      " 0.01301301 0.01601602 0.01501502 0.01301301 0.01601602 0.01401401\n",
      " 0.01501502 0.01301301 0.01601602 0.01601602 0.01501502 0.01301301\n",
      " 0.01301301 0.01601602 0.01501502 0.01601602 0.01301301 0.01301301\n",
      " 0.01501502 0.01501502 0.01501502 0.01401401 0.01501502 0.01301301\n",
      " 0.01201201 0.01401401 0.01501502 0.01501502 0.01601602 0.01501502\n",
      " 0.01601602 0.01401401 0.01501502]\n",
      "Reward per step: -0.1\n",
      "new root was visited 15 times\n",
      "Reward per step: 0.1\n",
      "new root was visited 0 times\n"
     ]
    },
    {
     "data": {
      "application/vnd.jupyter.widget-view+json": {
       "model_id": "c4df44f79ff04c86bf9c46450229fe95",
       "version_major": 2,
       "version_minor": 0
      },
      "text/plain": [
       "  0%|          | 0/1000 [00:00<?, ?it/s]"
      ]
     },
     "metadata": {},
     "output_type": "display_data"
    },
    {
     "name": "stdout",
     "output_type": "stream",
     "text": [
      "Policy probas:  [0.01401401 0.01401401 0.01501502 0.01601602 0.01401401 0.01501502\n",
      " 0.01301301 0.01601602 0.01501502 0.01201201 0.01401401 0.01401401\n",
      " 0.01501502 0.01201201 0.01201201 0.01301301 0.01201201 0.01201201\n",
      " 0.01301301 0.01601602 0.01501502 0.01401401 0.01401401 0.01301301\n",
      " 0.01201201 0.01301301 0.01501502 0.01501502 0.01201201 0.01401401\n",
      " 0.01201201 0.01401401 0.01501502 0.01501502 0.01201201 0.01401401\n",
      " 0.01301301 0.01301301 0.01401401 0.01501502 0.01301301 0.01201201\n",
      " 0.01501502 0.01501502 0.01501502 0.01401401 0.01201201 0.01501502\n",
      " 0.01201201 0.01401401 0.01301301 0.01201201 0.01301301 0.01201201\n",
      " 0.01401401 0.01401401 0.01501502 0.01601602 0.01301301 0.01201201\n",
      " 0.01001001 0.01201201 0.01001001 0.01401401 0.01201201 0.01501502\n",
      " 0.01201201 0.01401401 0.01501502 0.00900901 0.01501502 0.01401401\n",
      " 0.01201201 0.01301301]\n",
      "Reward per step: -0.1\n",
      "new root was visited 15 times\n",
      "Reward per step: 0.1\n",
      "new root was visited 0 times\n"
     ]
    },
    {
     "data": {
      "application/vnd.jupyter.widget-view+json": {
       "model_id": "555ef91b65d84885ab4aae0f8c187723",
       "version_major": 2,
       "version_minor": 0
      },
      "text/plain": [
       "  0%|          | 0/1000 [00:00<?, ?it/s]"
      ]
     },
     "metadata": {},
     "output_type": "display_data"
    },
    {
     "name": "stdout",
     "output_type": "stream",
     "text": [
      "Policy probas:  [0.01401401 0.01301301 0.01201201 0.01501502 0.01401401 0.01401401\n",
      " 0.01001001 0.01501502 0.01101101 0.01401401 0.01401401 0.01201201\n",
      " 0.01301301 0.01401401 0.01401401 0.01401401 0.01401401 0.01501502\n",
      " 0.01501502 0.01201201 0.01401401 0.01301301 0.01401401 0.01301301\n",
      " 0.01301301 0.01401401 0.01401401 0.01101101 0.01101101 0.01401401\n",
      " 0.01401401 0.01101101 0.01201201 0.01401401 0.01101101 0.01201201\n",
      " 0.01401401 0.01201201 0.01101101 0.01301301 0.01401401 0.01401401\n",
      " 0.01401401 0.01501502 0.01401401 0.01401401 0.01401401 0.01401401\n",
      " 0.01101101 0.01401401 0.01401401 0.01501502 0.01301301 0.01101101\n",
      " 0.01401401 0.01401401 0.01501502 0.01401401 0.01101101 0.01101101\n",
      " 0.01001001 0.01501502 0.01201201 0.01301301 0.01001001 0.01101101\n",
      " 0.01401401 0.01301301 0.01301301 0.01501502 0.01201201 0.01301301\n",
      " 0.01201201 0.01401401 0.01401401 0.01401401]\n",
      "Reward per step: -0.1\n",
      "new root was visited 14 times\n",
      "Reward per step: 0.1\n",
      "new root was visited 1 times\n"
     ]
    },
    {
     "data": {
      "application/vnd.jupyter.widget-view+json": {
       "model_id": "12aae50a2b384041a156253c217695bd",
       "version_major": 2,
       "version_minor": 0
      },
      "text/plain": [
       "  0%|          | 0/1000 [00:00<?, ?it/s]"
      ]
     },
     "metadata": {},
     "output_type": "display_data"
    },
    {
     "name": "stdout",
     "output_type": "stream",
     "text": [
      "Policy probas:  [0.013 0.01  0.013 0.014 0.013 0.013 0.012 0.011 0.013 0.013 0.013 0.012\n",
      " 0.01  0.011 0.01  0.01  0.013 0.013 0.01  0.013 0.013 0.011 0.013 0.014\n",
      " 0.013 0.013 0.01  0.013 0.013 0.012 0.01  0.013 0.013 0.013 0.012 0.01\n",
      " 0.013 0.013 0.013 0.013 0.014 0.012 0.013 0.013 0.013 0.01  0.011 0.009\n",
      " 0.011 0.01  0.013 0.013 0.013 0.013 0.013 0.011 0.014 0.013 0.013 0.01\n",
      " 0.013 0.012 0.013 0.013 0.013 0.008 0.013 0.011 0.012 0.014 0.012 0.011\n",
      " 0.013 0.013 0.012 0.014 0.013 0.013 0.011 0.01  0.013 0.013]\n",
      "Reward per step: -0.1\n",
      "new root was visited 13 times\n",
      "Reward per step: 0.1\n",
      "new root was visited 1 times\n"
     ]
    },
    {
     "data": {
      "application/vnd.jupyter.widget-view+json": {
       "model_id": "28b26627b7f646f988d8179231b9ef44",
       "version_major": 2,
       "version_minor": 0
      },
      "text/plain": [
       "  0%|          | 0/1000 [00:00<?, ?it/s]"
      ]
     },
     "metadata": {},
     "output_type": "display_data"
    },
    {
     "name": "stdout",
     "output_type": "stream",
     "text": [
      "Policy probas:  [0.014 0.011 0.014 0.014 0.013 0.014 0.014 0.013 0.013 0.014 0.015 0.014\n",
      " 0.014 0.014 0.013 0.014 0.014 0.013 0.014 0.013 0.011 0.013 0.014 0.013\n",
      " 0.014 0.014 0.013 0.014 0.014 0.014 0.014 0.013 0.013 0.014 0.014 0.014\n",
      " 0.014 0.015 0.013 0.014 0.014 0.014 0.014 0.013 0.014 0.013 0.014 0.014\n",
      " 0.015 0.014 0.014 0.013 0.015 0.014 0.014 0.014 0.013 0.015 0.014 0.013\n",
      " 0.014 0.013 0.014 0.014 0.013 0.013 0.014 0.014 0.014 0.013 0.014 0.014\n",
      " 0.014]\n",
      "Reward per step: -0.1\n",
      "new root was visited 15 times\n",
      "Reward per step: 0.1\n",
      "new root was visited 0 times\n"
     ]
    },
    {
     "data": {
      "application/vnd.jupyter.widget-view+json": {
       "model_id": "75e5a87d4da747f580cd6bb29e4d0e5f",
       "version_major": 2,
       "version_minor": 0
      },
      "text/plain": [
       "  0%|          | 0/1000 [00:00<?, ?it/s]"
      ]
     },
     "metadata": {},
     "output_type": "display_data"
    },
    {
     "name": "stdout",
     "output_type": "stream",
     "text": [
      "Policy probas:  [0.01401401 0.01401401 0.01501502 0.01201201 0.01401401 0.01501502\n",
      " 0.01501502 0.01401401 0.01401401 0.01401401 0.01501502 0.01501502\n",
      " 0.01401401 0.01501502 0.01401401 0.01401401 0.01401401 0.01401401\n",
      " 0.01401401 0.01401401 0.01401401 0.01401401 0.01401401 0.01501502\n",
      " 0.01501502 0.01401401 0.01401401 0.01501502 0.01501502 0.01401401\n",
      " 0.01501502 0.01401401 0.01401401 0.01501502 0.01501502 0.01401401\n",
      " 0.01401401 0.01401401 0.01501502 0.01401401 0.01501502 0.01401401\n",
      " 0.01401401 0.01501502 0.01401401 0.01401401 0.01501502 0.01501502\n",
      " 0.01201201 0.01401401 0.01401401 0.01501502 0.01401401 0.01401401\n",
      " 0.01501502 0.01401401 0.01401401 0.01401401 0.01501502 0.01301301\n",
      " 0.01501502 0.01401401 0.01401401 0.01501502 0.01501502 0.01401401\n",
      " 0.01401401 0.01301301 0.01401401 0.01501502]\n",
      "Reward per step: -0.1\n",
      "new root was visited 14 times\n",
      "Reward per step: 0.1\n",
      "new root was visited 0 times\n"
     ]
    },
    {
     "data": {
      "application/vnd.jupyter.widget-view+json": {
       "model_id": "ad24ed52cb464b8782ea8a03417b801d",
       "version_major": 2,
       "version_minor": 0
      },
      "text/plain": [
       "  0%|          | 0/1000 [00:00<?, ?it/s]"
      ]
     },
     "metadata": {},
     "output_type": "display_data"
    },
    {
     "name": "stdout",
     "output_type": "stream",
     "text": [
      "Policy probas:  [0.01501502 0.01401401 0.01601602 0.01501502 0.01601602 0.01601602\n",
      " 0.01501502 0.01601602 0.01701702 0.01401401 0.01501502 0.01401401\n",
      " 0.01601602 0.01501502 0.01501502 0.01601602 0.01501502 0.01601602\n",
      " 0.01301301 0.01501502 0.01301301 0.01401401 0.01601602 0.01401401\n",
      " 0.01601602 0.01501502 0.01601602 0.01601602 0.01601602 0.01501502\n",
      " 0.01501502 0.01401401 0.01501502 0.01601602 0.01601602 0.01501502\n",
      " 0.01501502 0.01401401 0.01501502 0.01601602 0.01501502 0.01601602\n",
      " 0.01401401 0.01601602 0.01501502 0.01601602 0.01601602 0.01401401\n",
      " 0.01601602 0.01601602 0.01601602 0.01601602 0.01701702 0.01301301\n",
      " 0.01601602 0.01301301 0.01501502 0.01601602 0.01601602 0.01401401\n",
      " 0.01601602 0.01601602 0.01401401 0.01301301 0.01201201 0.01601602]\n",
      "Reward per step: -0.1\n",
      "new root was visited 15 times\n",
      "Reward per step: 0.1\n",
      "new root was visited 0 times\n"
     ]
    },
    {
     "data": {
      "application/vnd.jupyter.widget-view+json": {
       "model_id": "f88177d9ad094e87a5b6768641deab6a",
       "version_major": 2,
       "version_minor": 0
      },
      "text/plain": [
       "  0%|          | 0/1000 [00:00<?, ?it/s]"
      ]
     },
     "metadata": {},
     "output_type": "display_data"
    },
    {
     "name": "stdout",
     "output_type": "stream",
     "text": [
      "Policy probas:  [0.01501502 0.01701702 0.01601602 0.01601602 0.01601602 0.01601602\n",
      " 0.01601602 0.01601602 0.01701702 0.01601602 0.01501502 0.01601602\n",
      " 0.01401401 0.01401401 0.01501502 0.01501502 0.01601602 0.01501502\n",
      " 0.01601602 0.01601602 0.01501502 0.01301301 0.01601602 0.01601602\n",
      " 0.01601602 0.01601602 0.01601602 0.01601602 0.01301301 0.01401401\n",
      " 0.01501502 0.01401401 0.01601602 0.01601602 0.01501502 0.01601602\n",
      " 0.01601602 0.01401401 0.01601602 0.01201201 0.01601602 0.01501502\n",
      " 0.01301301 0.01401401 0.01301301 0.01301301 0.01701702 0.01501502\n",
      " 0.01601602 0.01701702 0.01501502 0.01601602 0.01601602 0.01601602\n",
      " 0.01601602 0.01601602 0.01601602 0.01501502 0.01501502 0.01601602\n",
      " 0.01501502 0.01701702 0.01601602 0.01701702 0.01401401]\n",
      "Reward per step: -0.1\n",
      "new root was visited 17 times\n",
      "Reward per step: 0.1\n",
      "new root was visited 1 times\n"
     ]
    },
    {
     "data": {
      "application/vnd.jupyter.widget-view+json": {
       "model_id": "6bc12881cde54218bc1a75e129b30ad2",
       "version_major": 2,
       "version_minor": 0
      },
      "text/plain": [
       "  0%|          | 0/1000 [00:00<?, ?it/s]"
      ]
     },
     "metadata": {},
     "output_type": "display_data"
    },
    {
     "name": "stdout",
     "output_type": "stream",
     "text": [
      "Policy probas:  [0.015 0.015 0.015 0.016 0.013 0.014 0.015 0.014 0.013 0.015 0.016 0.013\n",
      " 0.015 0.013 0.016 0.016 0.013 0.016 0.016 0.015 0.015 0.011 0.015 0.015\n",
      " 0.013 0.016 0.014 0.016 0.016 0.014 0.016 0.015 0.013 0.015 0.016 0.016\n",
      " 0.013 0.016 0.015 0.014 0.014 0.016 0.015 0.016 0.015 0.014 0.015 0.013\n",
      " 0.016 0.015 0.014 0.015 0.014 0.016 0.016 0.013 0.015 0.014 0.016 0.016\n",
      " 0.015 0.016 0.016 0.013 0.013 0.015 0.013 0.013]\n",
      "Reward per step: -0.1\n",
      "new root was visited 16 times\n",
      "Reward per step: 0.1\n",
      "new root was visited 0 times\n"
     ]
    },
    {
     "data": {
      "application/vnd.jupyter.widget-view+json": {
       "model_id": "f2f27b71a48c46d89cf8656ea2f4fdcd",
       "version_major": 2,
       "version_minor": 0
      },
      "text/plain": [
       "  0%|          | 0/1000 [00:00<?, ?it/s]"
      ]
     },
     "metadata": {},
     "output_type": "display_data"
    },
    {
     "name": "stdout",
     "output_type": "stream",
     "text": [
      "Policy probas:  [0.01401401 0.01501502 0.01201201 0.01501502 0.01501502 0.01401401\n",
      " 0.01501502 0.01201201 0.01501502 0.01601602 0.01401401 0.01501502\n",
      " 0.01301301 0.01601602 0.01301301 0.01401401 0.01501502 0.01501502\n",
      " 0.01501502 0.01501502 0.01501502 0.01501502 0.01401401 0.01401401\n",
      " 0.00600601 0.01401401 0.01301301 0.01201201 0.01501502 0.01501502\n",
      " 0.01401401 0.01301301 0.01501502 0.01501502 0.01501502 0.01401401\n",
      " 0.00700701 0.01501502 0.01401401 0.01301301 0.01501502 0.01501502\n",
      " 0.01401401 0.01601602 0.01501502 0.01501502 0.01301301 0.01401401\n",
      " 0.01401401 0.01201201 0.01501502 0.01501502 0.01601602 0.01501502\n",
      " 0.01201201 0.01401401 0.01501502 0.01401401 0.01501502 0.01401401\n",
      " 0.01501502 0.01401401 0.01501502 0.01401401 0.01501502 0.01201201\n",
      " 0.01201201 0.01501502 0.01401401 0.01401401 0.01501502]\n",
      "Reward per step: -0.1\n",
      "new root was visited 14 times\n",
      "Reward per step: 0.1\n",
      "new root was visited 0 times\n"
     ]
    },
    {
     "data": {
      "application/vnd.jupyter.widget-view+json": {
       "model_id": "cf89dc73531a4750ac0e0ab87995bcf7",
       "version_major": 2,
       "version_minor": 0
      },
      "text/plain": [
       "  0%|          | 0/1000 [00:00<?, ?it/s]"
      ]
     },
     "metadata": {},
     "output_type": "display_data"
    },
    {
     "name": "stdout",
     "output_type": "stream",
     "text": [
      "Policy probas:  [0.01501502 0.01601602 0.01601602 0.01601602 0.01301301 0.01301301\n",
      " 0.01601602 0.01301301 0.01401401 0.01201201 0.01701702 0.01101101\n",
      " 0.01401401 0.01601602 0.01301301 0.01301301 0.01601602 0.01401401\n",
      " 0.01601602 0.01301301 0.01201201 0.01401401 0.01201201 0.01401401\n",
      " 0.01301301 0.01601602 0.01501502 0.01201201 0.01401401 0.01101101\n",
      " 0.01301301 0.01601602 0.01401401 0.01301301 0.01201201 0.01501502\n",
      " 0.01401401 0.01601602 0.01301301 0.01401401 0.01401401 0.01501502\n",
      " 0.01201201 0.01401401 0.01101101 0.01601602 0.01601602 0.01201201\n",
      " 0.01201201 0.01301301 0.01301301 0.01601602 0.01501502 0.01401401\n",
      " 0.01301301 0.01301301 0.01501502 0.01401401 0.01401401 0.01301301\n",
      " 0.01501502 0.01401401 0.01201201 0.01301301 0.01301301 0.01601602\n",
      " 0.01301301 0.01601602 0.01301301 0.01401401 0.01101101 0.01401401]\n",
      "Reward per step: -0.1\n",
      "new root was visited 13 times\n",
      "Reward per step: 0.1\n",
      "new root was visited 0 times\n"
     ]
    },
    {
     "data": {
      "application/vnd.jupyter.widget-view+json": {
       "model_id": "81e07f22af4c44fb8b3a3c4b87817dae",
       "version_major": 2,
       "version_minor": 0
      },
      "text/plain": [
       "  0%|          | 0/1000 [00:00<?, ?it/s]"
      ]
     },
     "metadata": {},
     "output_type": "display_data"
    },
    {
     "name": "stdout",
     "output_type": "stream",
     "text": [
      "Policy probas:  [0.01301301 0.01401401 0.01401401 0.01401401 0.01401401 0.01301301\n",
      " 0.01401401 0.01401401 0.01201201 0.01301301 0.01501502 0.01401401\n",
      " 0.01401401 0.01201201 0.01201201 0.01201201 0.01401401 0.01301301\n",
      " 0.01401401 0.01401401 0.01201201 0.01101101 0.01401401 0.01401401\n",
      " 0.01201201 0.01401401 0.01301301 0.01301301 0.01401401 0.01501502\n",
      " 0.01501502 0.01401401 0.01201201 0.01401401 0.01401401 0.01201201\n",
      " 0.01101101 0.01301301 0.01301301 0.01401401 0.01001001 0.01401401\n",
      " 0.01401401 0.01401401 0.01201201 0.01301301 0.01501502 0.01401401\n",
      " 0.01201201 0.01401401 0.01301301 0.01501502 0.01401401 0.01301301\n",
      " 0.01401401 0.01301301 0.01201201 0.01301301 0.01301301 0.01501502\n",
      " 0.01401401 0.01401401 0.01401401 0.01101101 0.01401401 0.01301301\n",
      " 0.01401401 0.01301301 0.01401401 0.01401401 0.01101101 0.01501502\n",
      " 0.01301301 0.01101101 0.01401401]\n",
      "Reward per step: -0.1\n",
      "new root was visited 15 times\n",
      "Reward per step: 0.1\n",
      "new root was visited 0 times\n"
     ]
    },
    {
     "data": {
      "application/vnd.jupyter.widget-view+json": {
       "model_id": "981295fa9bee4e9ab00cc870a2cb3857",
       "version_major": 2,
       "version_minor": 0
      },
      "text/plain": [
       "  0%|          | 0/1000 [00:00<?, ?it/s]"
      ]
     },
     "metadata": {},
     "output_type": "display_data"
    },
    {
     "ename": "KeyboardInterrupt",
     "evalue": "",
     "output_type": "error",
     "traceback": [
      "\u001b[1;31m---------------------------------------------------------------------------\u001b[0m",
      "\u001b[1;31mKeyboardInterrupt\u001b[0m                         Traceback (most recent call last)",
      "\u001b[1;32m<ipython-input-26-e4251335e4bc>\u001b[0m in \u001b[0;36m<module>\u001b[1;34m\u001b[0m\n\u001b[1;32m----> 1\u001b[1;33m \u001b[0mplay_game_against_random_actor\u001b[0m\u001b[1;33m(\u001b[0m\u001b[0menv\u001b[0m\u001b[1;33m,\u001b[0m \u001b[0mmcts\u001b[0m\u001b[1;33m)\u001b[0m\u001b[1;33m\u001b[0m\u001b[1;33m\u001b[0m\u001b[0m\n\u001b[0m",
      "\u001b[1;32m<ipython-input-24-1a5521b25766>\u001b[0m in \u001b[0;36mplay_game_against_random_actor\u001b[1;34m(env, mcts, n_iter)\u001b[0m\n\u001b[0;32m     16\u001b[0m             \u001b[1;32mfor\u001b[0m \u001b[0m_\u001b[0m \u001b[1;32min\u001b[0m \u001b[0mtqdm\u001b[0m\u001b[1;33m(\u001b[0m\u001b[0mrange\u001b[0m\u001b[1;33m(\u001b[0m\u001b[0mn_iter\u001b[0m\u001b[1;33m)\u001b[0m\u001b[1;33m)\u001b[0m\u001b[1;33m:\u001b[0m\u001b[1;33m\u001b[0m\u001b[1;33m\u001b[0m\u001b[0m\n\u001b[0;32m     17\u001b[0m                 \u001b[0msimulator\u001b[0m \u001b[1;33m=\u001b[0m \u001b[0mdeepcopy\u001b[0m\u001b[1;33m(\u001b[0m\u001b[0menv\u001b[0m\u001b[1;33m)\u001b[0m\u001b[1;33m\u001b[0m\u001b[1;33m\u001b[0m\u001b[0m\n\u001b[1;32m---> 18\u001b[1;33m                 \u001b[0mmcts\u001b[0m\u001b[1;33m.\u001b[0m\u001b[0mplan\u001b[0m\u001b[1;33m(\u001b[0m\u001b[0msimulator\u001b[0m\u001b[1;33m)\u001b[0m\u001b[1;33m\u001b[0m\u001b[1;33m\u001b[0m\u001b[0m\n\u001b[0m\u001b[0;32m     19\u001b[0m \u001b[1;33m\u001b[0m\u001b[0m\n\u001b[0;32m     20\u001b[0m             \u001b[1;31m# get MCTS policy\u001b[0m\u001b[1;33m\u001b[0m\u001b[1;33m\u001b[0m\u001b[1;33m\u001b[0m\u001b[0m\n",
      "\u001b[1;32m<ipython-input-23-eed9b601d901>\u001b[0m in \u001b[0;36mplan\u001b[1;34m(self, simulator)\u001b[0m\n\u001b[0;32m     23\u001b[0m         '''\n\u001b[0;32m     24\u001b[0m         \u001b[0mleaf\u001b[0m \u001b[1;33m=\u001b[0m \u001b[0mself\u001b[0m\u001b[1;33m.\u001b[0m\u001b[0mroot\u001b[0m\u001b[1;33m.\u001b[0m\u001b[0mselect_best_leaf\u001b[0m\u001b[1;33m(\u001b[0m\u001b[0msimulator\u001b[0m\u001b[1;33m)\u001b[0m\u001b[1;33m\u001b[0m\u001b[1;33m\u001b[0m\u001b[0m\n\u001b[1;32m---> 25\u001b[1;33m         \u001b[0mfuture_reward\u001b[0m \u001b[1;33m=\u001b[0m \u001b[0mleaf\u001b[0m\u001b[1;33m.\u001b[0m\u001b[0mexpand\u001b[0m\u001b[1;33m(\u001b[0m\u001b[0mself\u001b[0m\u001b[1;33m.\u001b[0m\u001b[0mmodel\u001b[0m\u001b[1;33m,\u001b[0m \u001b[0msimulator\u001b[0m\u001b[1;33m)\u001b[0m\u001b[1;33m\u001b[0m\u001b[1;33m\u001b[0m\u001b[0m\n\u001b[0m\u001b[0;32m     26\u001b[0m         \u001b[0mleaf\u001b[0m\u001b[1;33m.\u001b[0m\u001b[0mpropagate\u001b[0m\u001b[1;33m(\u001b[0m\u001b[0mfuture_reward\u001b[0m\u001b[1;33m)\u001b[0m\u001b[1;33m\u001b[0m\u001b[1;33m\u001b[0m\u001b[0m\n\u001b[0;32m     27\u001b[0m \u001b[1;33m\u001b[0m\u001b[0m\n",
      "\u001b[1;32m<ipython-input-22-f5a6f9b15ca3>\u001b[0m in \u001b[0;36mexpand\u001b[1;34m(self, model, simulator)\u001b[0m\n\u001b[0;32m     85\u001b[0m \u001b[1;33m\u001b[0m\u001b[0m\n\u001b[0;32m     86\u001b[0m         \u001b[1;32mwith\u001b[0m \u001b[0mtorch\u001b[0m\u001b[1;33m.\u001b[0m\u001b[0mno_grad\u001b[0m\u001b[1;33m(\u001b[0m\u001b[1;33m)\u001b[0m\u001b[1;33m:\u001b[0m\u001b[1;33m\u001b[0m\u001b[1;33m\u001b[0m\u001b[0m\n\u001b[1;32m---> 87\u001b[1;33m             \u001b[0mprior_policy\u001b[0m\u001b[1;33m,\u001b[0m \u001b[0mcritic_estimation\u001b[0m \u001b[1;33m=\u001b[0m \u001b[0mmodel\u001b[0m\u001b[1;33m.\u001b[0m\u001b[0mapply\u001b[0m\u001b[1;33m(\u001b[0m\u001b[0msimulator\u001b[0m\u001b[1;33m.\u001b[0m\u001b[0mlatest_observation\u001b[0m\u001b[1;33m,\u001b[0m \u001b[0mallowed_actions\u001b[0m\u001b[1;33m)\u001b[0m\u001b[1;33m\u001b[0m\u001b[1;33m\u001b[0m\u001b[0m\n\u001b[0m\u001b[0;32m     88\u001b[0m \u001b[1;33m\u001b[0m\u001b[0m\n\u001b[0;32m     89\u001b[0m         \u001b[1;32mfor\u001b[0m \u001b[0maction\u001b[0m \u001b[1;32min\u001b[0m \u001b[0mallowed_actions\u001b[0m\u001b[1;33m.\u001b[0m\u001b[0mnonzero\u001b[0m\u001b[1;33m(\u001b[0m\u001b[1;33m)\u001b[0m\u001b[1;33m[\u001b[0m\u001b[1;36m0\u001b[0m\u001b[1;33m]\u001b[0m\u001b[1;33m:\u001b[0m\u001b[1;33m\u001b[0m\u001b[1;33m\u001b[0m\u001b[0m\n",
      "\u001b[1;32m<ipython-input-19-a7927a7b1571>\u001b[0m in \u001b[0;36mapply\u001b[1;34m(self, x, allowed_actions)\u001b[0m\n\u001b[0;32m     33\u001b[0m \u001b[1;33m\u001b[0m\u001b[0m\n\u001b[0;32m     34\u001b[0m         '''\n\u001b[1;32m---> 35\u001b[1;33m         \u001b[0minp\u001b[0m \u001b[1;33m=\u001b[0m \u001b[0mtorch\u001b[0m\u001b[1;33m.\u001b[0m\u001b[0mFloatTensor\u001b[0m\u001b[1;33m(\u001b[0m\u001b[1;33m[\u001b[0m\u001b[0mx\u001b[0m\u001b[1;33m]\u001b[0m\u001b[1;33m)\u001b[0m\u001b[1;33m.\u001b[0m\u001b[0mto\u001b[0m\u001b[1;33m(\u001b[0m\u001b[0mdevice\u001b[0m\u001b[1;33m)\u001b[0m\u001b[1;33m\u001b[0m\u001b[1;33m\u001b[0m\u001b[0m\n\u001b[0m\u001b[0;32m     36\u001b[0m         \u001b[0mprior_policy\u001b[0m\u001b[1;33m,\u001b[0m \u001b[0mcritic_estimation\u001b[0m \u001b[1;33m=\u001b[0m \u001b[0mself\u001b[0m\u001b[1;33m.\u001b[0m\u001b[0mforward\u001b[0m\u001b[1;33m(\u001b[0m\u001b[0minp\u001b[0m\u001b[1;33m)\u001b[0m\u001b[1;33m\u001b[0m\u001b[1;33m\u001b[0m\u001b[0m\n\u001b[0;32m     37\u001b[0m         \u001b[0mcritic_estimation\u001b[0m \u001b[1;33m=\u001b[0m \u001b[0mcritic_estimation\u001b[0m\u001b[1;33m[\u001b[0m\u001b[1;36m0\u001b[0m\u001b[1;33m]\u001b[0m\u001b[1;33m.\u001b[0m\u001b[0mcpu\u001b[0m\u001b[1;33m(\u001b[0m\u001b[1;33m)\u001b[0m\u001b[1;33m.\u001b[0m\u001b[0mnumpy\u001b[0m\u001b[1;33m(\u001b[0m\u001b[1;33m)\u001b[0m\u001b[1;33m\u001b[0m\u001b[1;33m\u001b[0m\u001b[0m\n",
      "\u001b[1;31mKeyboardInterrupt\u001b[0m: "
     ]
    }
   ],
   "source": [
    "play_game_against_random_actor(env, mcts)"
   ]
  },
  {
   "cell_type": "code",
   "execution_count": 27,
   "id": "endangered-rescue",
   "metadata": {
    "ExecuteTime": {
     "end_time": "2021-04-27T19:32:16.059699Z",
     "start_time": "2021-04-27T19:32:16.054707Z"
    },
    "scrolled": true
   },
   "outputs": [],
   "source": [
    "# for child in mcts.root.children:\n",
    "#     print(f\"Action {child.action} prior is {child.prior_policy_probability}, was visited {child.times_visited}, average Q is {child.get_qvalue_estimate(mcts.root.player)}, UCB score is {child.ucb_score(mcts.root.player)}\")"
   ]
  },
  {
   "cell_type": "markdown",
   "id": "sophisticated-coaching",
   "metadata": {},
   "source": [
    "**More than 15s for each turn!!!**\n",
    "Computationally deadly."
   ]
  },
  {
   "cell_type": "markdown",
   "id": "whole-playing",
   "metadata": {},
   "source": [
    "# Replay Buffer"
   ]
  },
  {
   "cell_type": "code",
   "execution_count": 27,
   "id": "dated-interface",
   "metadata": {
    "ExecuteTime": {
     "end_time": "2021-04-28T20:31:24.141382Z",
     "start_time": "2021-04-28T20:31:24.129380Z"
    }
   },
   "outputs": [],
   "source": [
    "class ReplayBuffer():\n",
    "    '''\n",
    "    ReplayBuffer will store tuples.\n",
    "    '''\n",
    "    def __init__(self):\n",
    "        self._storage = []\n",
    "        \n",
    "    def clear(self):\n",
    "        self._storage = []\n",
    "\n",
    "    def __len__(self):\n",
    "        return len(self._storage)\n",
    "\n",
    "    def add(self, obs_t, action, mcts_policy, reward_to_go):\n",
    "        self._storage.append((obs_t, action, mcts_policy, reward_to_go))\n",
    "\n",
    "    def _encode_sample(self, idxes):\n",
    "        obses_t, actions, mcts_policies, Rs = [], [], [], []\n",
    "        for i in idxes:\n",
    "            obs_t, action, mcts_policy, reward_to_go = self._storage[i]\n",
    "            obses_t.append(np.array(obs_t, copy=False))\n",
    "            actions.append(np.array(action, copy=False))\n",
    "            mcts_policies.append(np.array(mcts_policy, copy=False))\n",
    "            Rs.append(np.array(reward_to_go, copy=False))\n",
    "        \n",
    "        return (\n",
    "            np.array(obses_t),\n",
    "            np.array(actions),\n",
    "            np.array(mcts_policies),\n",
    "            np.array(Rs),\n",
    "        )\n",
    "\n",
    "    def sample(self, batch_size):\n",
    "        \"\"\"\n",
    "        Samples minibatch of size batch_size of our four stored objects.\n",
    "        \"\"\"\n",
    "        self.idxes = np.random.choice(np.arange(len(self._storage)), size=batch_size)\n",
    "\n",
    "        return self._encode_sample(self.idxes)"
   ]
  },
  {
   "cell_type": "markdown",
   "id": "powerful-ghana",
   "metadata": {},
   "source": [
    "# Self-play pretraining"
   ]
  },
  {
   "cell_type": "markdown",
   "id": "selective-cliff",
   "metadata": {},
   "source": [
    "Experimental stuff: let's try to somehow pretrain our model, V(s) and p(a | s). We can play randomly or using randomly initialized p(a | s) and collect data more or less fast:"
   ]
  },
  {
   "cell_type": "code",
   "execution_count": 28,
   "id": "painful-mailman",
   "metadata": {
    "ExecuteTime": {
     "end_time": "2021-04-28T20:31:25.308947Z",
     "start_time": "2021-04-28T20:31:25.296942Z"
    }
   },
   "outputs": [],
   "source": [
    "def compute_reward_to_go(rewards, starting_player):\n",
    "    # player 0 wants to maximize these rewards, player 1 wants to minimize\n",
    "    for t in range(len(rewards) - 2, -1, -1):\n",
    "        rewards[t] += rewards[t+1]\n",
    "    \n",
    "    # make sure that in the dataset we want to maximize all rewards\n",
    "    player = starting_player\n",
    "    for t in range(len(rewards)):\n",
    "        rewards[t] *= (1 if player == 0 else -1)\n",
    "        player = not player\n",
    "        \n",
    "    return rewards"
   ]
  },
  {
   "cell_type": "code",
   "execution_count": 29,
   "id": "excessive-bandwidth",
   "metadata": {
    "ExecuteTime": {
     "end_time": "2021-04-28T20:31:25.676401Z",
     "start_time": "2021-04-28T20:31:25.657273Z"
    }
   },
   "outputs": [],
   "source": [
    "def self_play_NN(env, mcts):\n",
    "    '''\n",
    "    Plays a game with p(a | s) playing for both players. NO MCTS planning here.\n",
    "    '''\n",
    "    # initialization\n",
    "    s = env.reset()\n",
    "    done = False\n",
    "    R = 0\n",
    "    starting_player = env.game.current_player\n",
    "    \n",
    "    # record everything\n",
    "    states = []\n",
    "    actions = []\n",
    "    player = []  # which player selected this action; eventually we will want whether this action was selected by winner\n",
    "    rewards = [] # eventually we will want reward-to-go here   \n",
    "    \n",
    "    while not done:\n",
    "        states.append(s)\n",
    "        player.append(env.game.current_player)\n",
    "        \n",
    "        # select action using NN (do not matter which player it is)\n",
    "        allowed_actions = env.get_mirrored_action_mask()\n",
    "        action = mcts.launch_NN_policy(s, allowed_actions)\n",
    "        \n",
    "        s, r, done, _ = env.step(action)\n",
    "        R += r\n",
    "        \n",
    "        actions.append(action)\n",
    "        rewards.append(r)\n",
    "    \n",
    "    # no data if draw\n",
    "    if R == 0:\n",
    "        return [], [], [], []\n",
    "    \n",
    "    # turning rewards-per-step to rewards-to-go\n",
    "    # also now all reward-to-go is from perspective that it must be maximized\n",
    "    rewards = compute_reward_to_go(rewards, starting_player)\n",
    "    \n",
    "    # if player 0 wins, we switch 1 and 0.\n",
    "    # now 1 means that actions was selected by winner\n",
    "    if R > 0:\n",
    "        player = 1 - np.array(player)\n",
    "    \n",
    "    # we will store this four elements\n",
    "    return states, actions, player, rewards"
   ]
  },
  {
   "cell_type": "code",
   "execution_count": 30,
   "id": "meaning-constitutional",
   "metadata": {
    "ExecuteTime": {
     "end_time": "2021-04-28T20:31:26.597404Z",
     "start_time": "2021-04-28T20:31:26.569398Z"
    }
   },
   "outputs": [],
   "source": [
    "env = CustomWrapper(gym.make(\"abalone-v0\"))\n",
    "mcts = MCTS()"
   ]
  },
  {
   "cell_type": "code",
   "execution_count": 31,
   "id": "sensitive-mortgage",
   "metadata": {
    "ExecuteTime": {
     "end_time": "2021-04-28T20:31:30.786094Z",
     "start_time": "2021-04-28T20:31:27.785472Z"
    }
   },
   "outputs": [],
   "source": [
    "states, actions, is_winner, rewards = self_play_NN(env, mcts)"
   ]
  },
  {
   "cell_type": "code",
   "execution_count": 32,
   "id": "brazilian-salad",
   "metadata": {
    "ExecuteTime": {
     "end_time": "2021-04-28T20:31:50.911171Z",
     "start_time": "2021-04-28T20:31:50.907179Z"
    }
   },
   "outputs": [],
   "source": [
    "# let's play many games and store everying in ReplayBuffer dataset\n",
    "def collect_data(env, mcts, dataset, data_collector, games=1000):\n",
    "    for _ in tqdm(range(games)):\n",
    "        states, actions, mcts_policies, reward_to_go = data_collector(env, mcts)\n",
    "        for example in zip(states, actions, mcts_policies, reward_to_go):\n",
    "            dataset.add(*example)"
   ]
  },
  {
   "cell_type": "code",
   "execution_count": 33,
   "id": "acting-fossil",
   "metadata": {
    "ExecuteTime": {
     "end_time": "2021-04-28T20:31:51.461999Z",
     "start_time": "2021-04-28T20:31:51.459000Z"
    }
   },
   "outputs": [],
   "source": [
    "dataset = ReplayBuffer()"
   ]
  },
  {
   "cell_type": "code",
   "execution_count": 19,
   "id": "faced-distinction",
   "metadata": {},
   "outputs": [
    {
     "name": "stderr",
     "output_type": "stream",
     "text": [
      "<ipython-input-18-2294f2b5d7f7>:2: TqdmDeprecationWarning: This function will be removed in tqdm==5.0.0\n",
      "Please use `tqdm.notebook.tqdm` instead of `tqdm.tqdm_notebook`\n",
      "  for _ in tqdm(range(games)):\n"
     ]
    },
    {
     "data": {
      "application/vnd.jupyter.widget-view+json": {
       "model_id": "df979c742d97415198eff258419f7b94",
       "version_major": 2,
       "version_minor": 0
      },
      "text/plain": [
       "  0%|          | 0/1000 [00:00<?, ?it/s]"
      ]
     },
     "metadata": {},
     "output_type": "display_data"
    }
   ],
   "source": [
    "collect_data(env, mcts, dataset, self_play_NN, games=1000)"
   ]
  },
  {
   "cell_type": "code",
   "execution_count": 20,
   "id": "environmental-whole",
   "metadata": {},
   "outputs": [
    {
     "data": {
      "text/plain": [
       "192600"
      ]
     },
     "execution_count": 20,
     "metadata": {},
     "output_type": "execute_result"
    }
   ],
   "source": [
    "len(dataset)"
   ]
  },
  {
   "cell_type": "markdown",
   "id": "frozen-logan",
   "metadata": {},
   "source": [
    "# Self-play Training"
   ]
  },
  {
   "cell_type": "markdown",
   "id": "subject-broadcast",
   "metadata": {},
   "source": [
    "Experiment: tried to maximize log p(a | s) for actions selected by winner, maximize log (1 - p(a | s) ) for actions selected by loser. Also tried with only first term; not really working. Critic V(s) trained to predict reward-to-go."
   ]
  },
  {
   "cell_type": "code",
   "execution_count": 37,
   "id": "sonic-warrior",
   "metadata": {},
   "outputs": [],
   "source": [
    "actor_loss_logging = []\n",
    "critic_loss_logging = []"
   ]
  },
  {
   "cell_type": "code",
   "execution_count": 38,
   "id": "excess-fantasy",
   "metadata": {},
   "outputs": [],
   "source": [
    "from torch.distributions import Categorical\n",
    "\n",
    "def selfplay_loss(mcts, states, actions, is_winner, Rs):\n",
    "    logits, V = mcts.model(states)\n",
    "    \n",
    "    # critic predicts reward-to-go\n",
    "    critic_loss = (V - Rs)**2\n",
    "    \n",
    "    # see description above\n",
    "    log_prob = Categorical(logits=logits).log_prob(actions)\n",
    "    actor_loss = log_prob * (-is_winner) - torch.log1p(-log_prob.exp()) * (1-is_winner)\n",
    "    \n",
    "    # logging part\n",
    "    global actor_loss_logging, critic_loss_logging\n",
    "    actor_loss_logging.append(actor_loss.detach().cpu().mean().item())\n",
    "    critic_loss_logging.append(critic_loss.detach().cpu().mean().item())\n",
    "    \n",
    "    return actor_loss + critic_loss"
   ]
  },
  {
   "cell_type": "code",
   "execution_count": 39,
   "id": "intense-workshop",
   "metadata": {},
   "outputs": [],
   "source": [
    "from torch.distributions import Categorical\n",
    "\n",
    "def train(dataset, mcts, loss_function, batch_size=128, max_grad_norm=5):\n",
    "    '''\n",
    "    Performs 1 SGD step of training\n",
    "    '''\n",
    "    # sample minibatch\n",
    "    states, actions, is_winner, Rs = dataset.sample(batch_size)\n",
    "    \n",
    "    # move everything to PyTorch\n",
    "    states = torch.FloatTensor(states).to(device)\n",
    "    actions = torch.FloatTensor(actions).to(device)\n",
    "    is_winner = torch.FloatTensor(is_winner).to(device)\n",
    "    Rs = torch.FloatTensor(Rs).to(device)\n",
    "    \n",
    "    # compute loss\n",
    "    loss = loss_function(mcts, states, actions, is_winner, Rs)\n",
    "    \n",
    "    # clip gradients and call Adam\n",
    "    loss = loss.mean()\n",
    "    mcts.optimizer.zero_grad()\n",
    "    loss.backward()\n",
    "    grad_norm = nn.utils.clip_grad_norm_(mcts.model.parameters(), max_grad_norm)\n",
    "    mcts.optimizer.step()"
   ]
  },
  {
   "cell_type": "code",
   "execution_count": 40,
   "id": "unlike-latitude",
   "metadata": {},
   "outputs": [],
   "source": [
    "from IPython.display import clear_output\n",
    "import matplotlib.pyplot as plt\n",
    "%matplotlib inline\n",
    "\n",
    "def draw():\n",
    "    plt.figure(figsize=[16, 7])\n",
    "\n",
    "    plt.subplot(1, 2, 1)\n",
    "    plt.title(\"Mean actor loss\")\n",
    "    plt.plot(actor_loss_logging)\n",
    "    plt.grid()\n",
    "\n",
    "    plt.subplot(1, 2, 2)\n",
    "    plt.title(\"Mean critic loss\")\n",
    "    plt.plot(critic_loss_logging)\n",
    "    plt.grid()\n",
    "\n",
    "    clear_output(True)\n",
    "    plt.show()"
   ]
  },
  {
   "cell_type": "code",
   "execution_count": 53,
   "id": "increasing-stationery",
   "metadata": {},
   "outputs": [
    {
     "data": {
      "image/png": "[encoded data removed]",
      "text/plain": [
       "<Figure size 1152x504 with 2 Axes>"
      ]
     },
     "metadata": {
      "needs_background": "light"
     },
     "output_type": "display_data"
    }
   ],
   "source": [
    "# training cycle\n",
    "for t in tqdm(range(10000)):\n",
    "    train(dataset, mcts, loss_function=selfplay_loss)\n",
    "    \n",
    "    if t % 100 == 0:\n",
    "        draw()"
   ]
  },
  {
   "cell_type": "code",
   "execution_count": 34,
   "id": "valid-workshop",
   "metadata": {
    "ExecuteTime": {
     "end_time": "2021-04-28T20:35:13.341579Z",
     "start_time": "2021-04-28T20:35:13.331577Z"
    }
   },
   "outputs": [],
   "source": [
    "# saving\n",
    "#mcts.save(\"selfplay_pretrain_test\")"
   ]
  },
  {
   "cell_type": "markdown",
   "id": "democratic-stick",
   "metadata": {},
   "source": [
    "# After pretraining"
   ]
  },
  {
   "cell_type": "code",
   "execution_count": 35,
   "id": "interested-nashville",
   "metadata": {
    "ExecuteTime": {
     "end_time": "2021-04-28T20:35:48.842369Z",
     "start_time": "2021-04-28T20:35:48.838359Z"
    }
   },
   "outputs": [],
   "source": [
    "# MCTS with pretrained NN does not work better seemingly\n",
    "# play_game_against_random_actor(env, mcts)"
   ]
  },
  {
   "cell_type": "code",
   "execution_count": 114,
   "id": "empty-bobby",
   "metadata": {},
   "outputs": [],
   "source": [
    "# clear data\n",
    "dataset.clear()"
   ]
  },
  {
   "cell_type": "code",
   "execution_count": 115,
   "id": "athletic-baseline",
   "metadata": {},
   "outputs": [
    {
     "name": "stderr",
     "output_type": "stream",
     "text": [
      "<ipython-input-109-2294f2b5d7f7>:2: TqdmDeprecationWarning: This function will be removed in tqdm==5.0.0\n",
      "Please use `tqdm.notebook.tqdm` instead of `tqdm.tqdm_notebook`\n",
      "  for _ in tqdm(range(games)):\n"
     ]
    },
    {
     "data": {
      "application/vnd.jupyter.widget-view+json": {
       "model_id": "3ed8a6b769d940749df2f2739a42aaa5",
       "version_major": 2,
       "version_minor": 0
      },
      "text/plain": [
       "  0%|          | 0/500 [00:00<?, ?it/s]"
      ]
     },
     "metadata": {},
     "output_type": "display_data"
    }
   ],
   "source": [
    "# collect more data via selfplay\n",
    "collect_data(env, mcts, dataset, self_play_NN, games=500)"
   ]
  },
  {
   "cell_type": "code",
   "execution_count": 116,
   "id": "interesting-joyce",
   "metadata": {},
   "outputs": [
    {
     "data": {
      "image/png": "[encoded data removed]",
      "text/plain": [
       "<Figure size 1152x504 with 2 Axes>"
      ]
     },
     "metadata": {
      "needs_background": "light"
     },
     "output_type": "display_data"
    }
   ],
   "source": [
    "# train some more\n",
    "for t in tqdm(range(20000)):\n",
    "    train(dataset, mcts, loss_function=selfplay_loss)\n",
    "    \n",
    "    if t % 100 == 0:\n",
    "        draw()"
   ]
  },
  {
   "cell_type": "code",
   "execution_count": 118,
   "id": "hollow-touch",
   "metadata": {},
   "outputs": [],
   "source": [
    "#mcts.save(\"third model\")"
   ]
  },
  {
   "cell_type": "markdown",
   "id": "headed-fabric",
   "metadata": {},
   "source": [
    "# Data collection"
   ]
  },
  {
   "cell_type": "markdown",
   "id": "devoted-boating",
   "metadata": {},
   "source": [
    "We SHOULD collect data using MCTS policy, but it is too slow :("
   ]
  },
  {
   "cell_type": "code",
   "execution_count": 48,
   "id": "modern-syracuse",
   "metadata": {},
   "outputs": [],
   "source": [
    "def play_game(env, mcts, n_iter=1000):\n",
    "    s = env.reset()\n",
    "    renderer_env = deepcopy(env)\n",
    "    done = False\n",
    "    starting_player = env.game.current_player\n",
    "    mcts.clear_tree(starting_player)\n",
    "    \n",
    "    states = []\n",
    "    actions = []\n",
    "    mcts_policies = []\n",
    "    rewards = []    \n",
    "    \n",
    "    while not done:\n",
    "        states.append(s)\n",
    "        \n",
    "        for _ in tqdm(range(n_iter)):\n",
    "            simulator = deepcopy(env)\n",
    "            mcts.plan(simulator)\n",
    "            \n",
    "        mcts_policy = mcts.get_policy()\n",
    "        action = np.random.choice(np.arange(N_ACTIONS), p=mcts_policy)\n",
    "        \n",
    "        s, r, done, _ = env.step(action)\n",
    "        \n",
    "        actions.append(action)\n",
    "        mcts_policies.append(mcts_policy)\n",
    "        rewards.append(r)\n",
    "        \n",
    "        renderer_env.step(action)\n",
    "        renderer_env.render()\n",
    "        \n",
    "        if not done:\n",
    "            mcts.root_from_subtree(action)\n",
    "            \n",
    "    renderer_env.close()\n",
    "            \n",
    "    return states, actions, mcts_policies, compute_reward_to_go(rewards, starting_player)"
   ]
  },
  {
   "cell_type": "code",
   "execution_count": null,
   "id": "rental-greenhouse",
   "metadata": {},
   "outputs": [],
   "source": [
    "play_game(env, mcts)"
   ]
  },
  {
   "cell_type": "markdown",
   "id": "floral-switch",
   "metadata": {},
   "source": [
    "## Evaluation"
   ]
  },
  {
   "cell_type": "markdown",
   "id": "absent-season",
   "metadata": {},
   "source": [
    "To evaluate NN, we can play with it against random actor and see if it wins. Spoiler: it does not.\n",
    "\n",
    "Can't evaluate MCTS because it is too slow."
   ]
  },
  {
   "cell_type": "code",
   "execution_count": 50,
   "id": "asian-coral",
   "metadata": {},
   "outputs": [],
   "source": [
    "#mcts.load(\"second_model\")"
   ]
  },
  {
   "cell_type": "code",
   "execution_count": 36,
   "id": "flexible-surgery",
   "metadata": {
    "ExecuteTime": {
     "end_time": "2021-04-28T20:39:06.137014Z",
     "start_time": "2021-04-28T20:39:06.125609Z"
    }
   },
   "outputs": [],
   "source": [
    "from tqdm import tqdm_notebook as tqdm\n",
    "\n",
    "def play_game_NN_against_random_actor(env, mcts, show=False):\n",
    "    '''\n",
    "    Plays a game between NN policy and random actor.\n",
    "    TODO: make a single playing function and use three actors: MCTS actor, NN actor, random actor.\n",
    "    '''\n",
    "    s = env.reset()\n",
    "    if show: renderer_env = deepcopy(env)\n",
    "    done = False\n",
    "    t = 0\n",
    "    R = 0\n",
    "    \n",
    "    while not done:\n",
    "        if env.game.current_player == 0:\n",
    "            allowed_actions = env.get_mirrored_action_mask()\n",
    "            action = mcts.launch_NN_policy(s, allowed_actions)\n",
    "        else:\n",
    "            action = random.choice(env.get_mirrored_action_mask().nonzero()[0])\n",
    "        \n",
    "        s, r, done, _ = env.step(action)\n",
    "        t += 1\n",
    "        R += r\n",
    "        \n",
    "        if show: \n",
    "            renderer_env.step(action)\n",
    "            renderer_env.render(fps=4)\n",
    "    \n",
    "    if show: renderer_env.close()\n",
    "    \n",
    "    return R, t"
   ]
  },
  {
   "cell_type": "code",
   "execution_count": 37,
   "id": "assumed-scheduling",
   "metadata": {
    "ExecuteTime": {
     "end_time": "2021-04-28T20:40:05.382789Z",
     "start_time": "2021-04-28T20:39:06.734568Z"
    }
   },
   "outputs": [
    {
     "name": "stderr",
     "output_type": "stream",
     "text": [
      "<ipython-input-37-b7bbf58da073>:2: TqdmDeprecationWarning: This function will be removed in tqdm==5.0.0\n",
      "Please use `tqdm.notebook.tqdm` instead of `tqdm.tqdm_notebook`\n",
      "  for _ in tqdm(range(20)):\n"
     ]
    },
    {
     "data": {
      "application/vnd.jupyter.widget-view+json": {
       "model_id": "e67f1ab5c6f040b6890cdb92ef3174f8",
       "version_major": 2,
       "version_minor": 0
      },
      "text/plain": [
       "  0%|          | 0/20 [00:00<?, ?it/s]"
      ]
     },
     "metadata": {},
     "output_type": "display_data"
    },
    {
     "name": "stdout",
     "output_type": "stream",
     "text": [
      "game result: (turns: 200, reward: -0.6)\n",
      "game result: (turns: 200, reward: -1.2)\n",
      "game result: (turns: 200, reward: -3.3000000000000003)\n",
      "game result: (turns: 200, reward: 3.3)\n",
      "game result: (turns: 200, reward: 2.4000000000000004)\n",
      "game result: (turns: 200, reward: -2.7755575615628914e-17)\n",
      "game result: (turns: 200, reward: 0.9)\n",
      "game result: (turns: 200, reward: 1.2)\n",
      "game result: (turns: 200, reward: 0.6)\n",
      "game result: (turns: 200, reward: -0.30000000000000004)\n",
      "game result: (turns: 200, reward: 2.7)\n",
      "game result: (turns: 200, reward: -0.6000000000000001)\n",
      "game result: (turns: 200, reward: 1.8)\n",
      "game result: (turns: 200, reward: 0.0)\n",
      "game result: (turns: 200, reward: -5.1000000000000005)\n",
      "game result: (turns: 200, reward: 2.7)\n",
      "game result: (turns: 200, reward: 0.6)\n",
      "game result: (turns: 200, reward: 1.2)\n",
      "game result: (turns: 200, reward: 2.7)\n",
      "game result: (turns: 200, reward: 1.8000000000000003)\n",
      "Score:  0.54\n"
     ]
    }
   ],
   "source": [
    "Rs = []\n",
    "for _ in tqdm(range(20)):\n",
    "    R, t = play_game_NN_against_random_actor(env, mcts, show=False)\n",
    "    print(f\"game result: (turns: {t}, reward: {R})\")\n",
    "    Rs.append(R)\n",
    "\n",
    "print(\"Score: \", np.array(Rs).mean())"
   ]
  }
 ],
 "metadata": {
  "kernelspec": {
   "display_name": "Python 3",
   "language": "python",
   "name": "python3"
  },
  "language_info": {
   "codemirror_mode": {
    "name": "ipython",
    "version": 3
   },
   "file_extension": ".py",
   "mimetype": "text/x-python",
   "name": "python",
   "nbconvert_exporter": "python",
   "pygments_lexer": "ipython3",
   "version": "3.8.5"
  }
 },
 "nbformat": 4,
 "nbformat_minor": 5
}
